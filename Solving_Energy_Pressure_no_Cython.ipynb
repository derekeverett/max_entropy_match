{
 "cells": [
  {
   "cell_type": "markdown",
   "metadata": {},
   "source": [
    "# Maximum Entropy Matching Distribution Function\n",
    "\n",
    "This notebook can construct the distribution function which maximizes the kinetic entropy subject to the constraints of matching the energy density $\\epsilon$ and the total isotropic pressure $P \\equiv p + \\Pi$.\n",
    "\n",
    "The entropy density current is expressed\n",
    "\n",
    "$$s^{\\mu}(x) = - \\sum_h \\frac{g_h}{(2\\pi)^3}\\int \\frac{d^3p}{p_0} p^{\\mu} \\phi[f_h],$$\n",
    "\n",
    "where $h$ runs over all hadronic species, $g_h$ is the degeneracy of species $h$, and $f_h(x;p)$ is the distribution function of particles of species $h$.\n",
    "\n",
    "The function $\\phi[f_h]$ defined by\n",
    "\n",
    "$$ \\phi[f] \\equiv f \\ln (f) - \\frac{1 + \\theta f}{\\theta} \\ln(1 + \\theta f)$$\n",
    "\n",
    "defines the quantum statistical nature of the particles, with $\\theta = 1$, $0$ or $-1$ for bosons, Maxwell-Boltzmann particles, and fermions respectively."
   ]
  },
  {
   "cell_type": "code",
   "execution_count": 1,
   "metadata": {},
   "outputs": [],
   "source": [
    "#%load_ext Cython\n",
    "from scipy import integrate\n",
    "from scipy import interpolate\n",
    "from scipy.interpolate import RectBivariateSpline\n",
    "from scipy import optimize\n",
    "import matplotlib.pyplot as plt\n",
    "import seaborn as sns\n",
    "import numpy as np\n",
    "import dill\n",
    "import pandas as pd\n",
    "sns.set()\n",
    "sns.set_context('talk')"
   ]
  },
  {
   "cell_type": "code",
   "execution_count": 2,
   "metadata": {},
   "outputs": [],
   "source": [
    "### physical constants\n",
    "hbarc = 0.197 # GeV * fm"
   ]
  },
  {
   "cell_type": "markdown",
   "metadata": {},
   "source": [
    "## The cell below constructs the grid of energy density and pressure\n",
    "It takes a while to run. Unless we need to change the particle/grid options, we can just load the grid from disk.\n",
    "If you want to change the grid limits, discretization, or change the Hadron Resonances Gas, it needs to be rerun.\n",
    "To do this, set `recalculate_grids = True`.\n",
    "\n",
    "The particle information is loaded from the PDG particle data table using functions defined here: https://github.com/Duke-QCD/frzout."
   ]
  },
  {
   "cell_type": "code",
   "execution_count": 3,
   "metadata": {},
   "outputs": [],
   "source": [
    "#%%cython \n",
    "import numpy as np\n",
    "#cimport numpy as np\n",
    "from scipy import integrate\n",
    "import time\n",
    "#from libc.math cimport exp\n",
    "#from libc.math cimport sqrt\n",
    "from numpy import exp\n",
    "from numpy import sqrt\n",
    "\n",
    "\n",
    "#DTYPE = np.float\n",
    "#ctypedef np.float_t DTYPE_t\n",
    "\n",
    "from species import species_dict, _normalize_species, urqmd\n",
    "species = _normalize_species(species=urqmd)\n",
    "for pid in species:\n",
    "    pid[1]['sign'] = 1. if pid[1]['boson'] else -1.\n",
    "n_species = len(species)\n",
    "\n",
    "############################\n",
    "########USER OPTIONS########\n",
    "#particles included in thermodynamic quantities\n",
    "chosen_particles = species_dict.keys()\n",
    "\n",
    "#Grid parameters\n",
    "npts_beta = 100 #size of grid in beta \n",
    "npts_rho = 150 #size of grid in rho \n",
    "\n",
    "T_eff_max = 0.20 #GeV\n",
    "T_eff_min = 0.05 #GeV\n",
    "\n",
    "#|lambda| <= |beta|\n",
    "#so define rho by lambda = rho * beta, with rho in [-1, 1]\n",
    "rho_min = -0.8\n",
    "rho_max = 0.8\n",
    "############################\n",
    "########USER OPTIONS########\n",
    "\n",
    "beta_min = 1. / T_eff_max #GeV^-1\n",
    "beta_max = 1. / T_eff_min #GeV^-1\n",
    "beta_grid = np.linspace(beta_min, beta_max, npts_beta)\n",
    "\n",
    "rho_grid = np.linspace(rho_min, rho_max, npts_rho)\n",
    "\n",
    "# The Max. Entropy Distribution Function\n",
    "def f_dist(E, beta, rho, m, sign):\n",
    "    E2 = E*E\n",
    "    m2 = m*m\n",
    "    lambdapi = rho*beta\n",
    "    arg = E * ( beta + lambdapi*(1. - m2/E2) )\n",
    "    return 1./(exp(arg) - sign)\n",
    "\n",
    "# The Equil. Distribution Function\n",
    "def f_eq(E, beta_eq, sign):\n",
    "    arg = beta_eq * E\n",
    "    return 1./(exp(arg) - sign)\n",
    "\n",
    "# The Linear CE RTA distribution\n",
    "def f_CE_lin(E, beta_eq, bulk_Pi, \n",
    "                     beta_Pi, F, m, sign, degen):\n",
    "    E2 = E*E\n",
    "    m2 = m*m\n",
    "    f0 = f_eq(E, beta_eq, sign)\n",
    "    f_fbar = f0 * (1. + sign*f0/degen)\n",
    "    a = beta_eq * beta_eq * F * E\n",
    "    b = beta_eq * (E2 - m2) / 3. / E\n",
    "    df = f_fbar * bulk_Pi * (a + b) / beta_Pi\n",
    "    f = f0 + df\n",
    "    return f\n"
   ]
  },
  {
   "cell_type": "markdown",
   "metadata": {},
   "source": [
    "### Load the pre-calculated grids from disk"
   ]
  },
  {
   "cell_type": "code",
   "execution_count": 4,
   "metadata": {},
   "outputs": [],
   "source": [
    "#load the pre-calculated grid\n",
    "eps_grid = np.loadtxt(\"grids/eps.dat\")\n",
    "P_grid = np.loadtxt(\"grids/P.dat\")\n",
    "\n",
    "eq_eps_grid = np.loadtxt(\"grids/eq_eps.dat\")\n",
    "eq_p_grid = np.loadtxt(\"grids/eq_p.dat\")"
   ]
  },
  {
   "cell_type": "code",
   "execution_count": 5,
   "metadata": {
    "scrolled": true
   },
   "outputs": [
    {
     "name": "stderr",
     "output_type": "stream",
     "text": [
      "/Users/derek/miniconda3/lib/python3.6/site-packages/ipykernel_launcher.py:2: ParserWarning: Falling back to the 'python' engine because the 'c' engine does not support regex separators (separators > 1 char and different from '\\s+' are interpreted as regex); you can avoid this warning by specifying engine='python'.\n",
      "  \n",
      "/Users/derek/miniconda3/lib/python3.6/site-packages/ipykernel_launcher.py:3: ParserWarning: Falling back to the 'python' engine because the 'c' engine does not support regex separators (separators > 1 char and different from '\\s+' are interpreted as regex); you can avoid this warning by specifying engine='python'.\n",
      "  This is separate from the ipykernel package so we can avoid doing imports until\n"
     ]
    }
   ],
   "source": [
    "#load the tables from iS3D for Linear Chapman Enskog\n",
    "beta_Pi_df = pd.read_csv('grids/iS3D_tables/urqmd/betabulk.dat', sep='  ')\n",
    "F_df = pd.read_csv('grids/iS3D_tables/urqmd/F.dat', sep='  ')"
   ]
  },
  {
   "cell_type": "code",
   "execution_count": 6,
   "metadata": {},
   "outputs": [],
   "source": [
    "beta_Pi_df['beta_Pi[fm^-4]'] = beta_Pi_df['betabulk_over_T4[fm^-4/GeV^4]'] * (beta_Pi_df['T[GeV]']**4. )\n",
    "beta_Pi_df['beta[GeV^-1]'] = 1. / beta_Pi_df['T[GeV]']\n",
    "\n",
    "F_df['F[fm^-1]'] = F_df['F_over_T[fm^-1/GeV]'] * F_df['T[GeV]']\n",
    "F_df['beta[GeV^-1]'] = 1. / F_df['T[GeV]']\n",
    "\n",
    "\n",
    "#ARE THESE THE RIGHT UNITS? CHECK...\n",
    "F_df['F[GeV]'] = F_df['F[fm^-1]'] * hbarc\n",
    "beta_Pi_df['beta_Pi[GeV/fm^3]'] = beta_Pi_df['beta_Pi[fm^-4]'] * hbarc"
   ]
  },
  {
   "cell_type": "code",
   "execution_count": 7,
   "metadata": {},
   "outputs": [
    {
     "data": {
      "text/html": [
       "<div>\n",
       "<style scoped>\n",
       "    .dataframe tbody tr th:only-of-type {\n",
       "        vertical-align: middle;\n",
       "    }\n",
       "\n",
       "    .dataframe tbody tr th {\n",
       "        vertical-align: top;\n",
       "    }\n",
       "\n",
       "    .dataframe thead th {\n",
       "        text-align: right;\n",
       "    }\n",
       "</style>\n",
       "<table border=\"1\" class=\"dataframe\">\n",
       "  <thead>\n",
       "    <tr style=\"text-align: right;\">\n",
       "      <th></th>\n",
       "      <th>T[GeV]</th>\n",
       "      <th>muB[GeV]</th>\n",
       "      <th>betabulk_over_T4[fm^-4/GeV^4]</th>\n",
       "      <th>beta_Pi[fm^-4]</th>\n",
       "      <th>beta[GeV^-1]</th>\n",
       "      <th>beta_Pi[GeV/fm^3]</th>\n",
       "    </tr>\n",
       "  </thead>\n",
       "  <tbody>\n",
       "    <tr>\n",
       "      <th>0</th>\n",
       "      <td>0.100</td>\n",
       "      <td>0.0</td>\n",
       "      <td>9.173387</td>\n",
       "      <td>0.000917</td>\n",
       "      <td>10.000000</td>\n",
       "      <td>0.000181</td>\n",
       "    </tr>\n",
       "    <tr>\n",
       "      <th>1</th>\n",
       "      <td>0.101</td>\n",
       "      <td>0.0</td>\n",
       "      <td>9.458146</td>\n",
       "      <td>0.000984</td>\n",
       "      <td>9.900990</td>\n",
       "      <td>0.000194</td>\n",
       "    </tr>\n",
       "    <tr>\n",
       "      <th>2</th>\n",
       "      <td>0.102</td>\n",
       "      <td>0.0</td>\n",
       "      <td>9.747904</td>\n",
       "      <td>0.001055</td>\n",
       "      <td>9.803922</td>\n",
       "      <td>0.000208</td>\n",
       "    </tr>\n",
       "    <tr>\n",
       "      <th>3</th>\n",
       "      <td>0.103</td>\n",
       "      <td>0.0</td>\n",
       "      <td>10.042641</td>\n",
       "      <td>0.001130</td>\n",
       "      <td>9.708738</td>\n",
       "      <td>0.000223</td>\n",
       "    </tr>\n",
       "    <tr>\n",
       "      <th>4</th>\n",
       "      <td>0.104</td>\n",
       "      <td>0.0</td>\n",
       "      <td>10.342339</td>\n",
       "      <td>0.001210</td>\n",
       "      <td>9.615385</td>\n",
       "      <td>0.000238</td>\n",
       "    </tr>\n",
       "    <tr>\n",
       "      <th>...</th>\n",
       "      <td>...</td>\n",
       "      <td>...</td>\n",
       "      <td>...</td>\n",
       "      <td>...</td>\n",
       "      <td>...</td>\n",
       "      <td>...</td>\n",
       "    </tr>\n",
       "    <tr>\n",
       "      <th>96</th>\n",
       "      <td>0.196</td>\n",
       "      <td>0.0</td>\n",
       "      <td>67.448347</td>\n",
       "      <td>0.099540</td>\n",
       "      <td>5.102041</td>\n",
       "      <td>0.019609</td>\n",
       "    </tr>\n",
       "    <tr>\n",
       "      <th>97</th>\n",
       "      <td>0.197</td>\n",
       "      <td>0.0</td>\n",
       "      <td>68.526827</td>\n",
       "      <td>0.103211</td>\n",
       "      <td>5.076142</td>\n",
       "      <td>0.020333</td>\n",
       "    </tr>\n",
       "    <tr>\n",
       "      <th>98</th>\n",
       "      <td>0.198</td>\n",
       "      <td>0.0</td>\n",
       "      <td>69.617382</td>\n",
       "      <td>0.106999</td>\n",
       "      <td>5.050505</td>\n",
       "      <td>0.021079</td>\n",
       "    </tr>\n",
       "    <tr>\n",
       "      <th>99</th>\n",
       "      <td>0.199</td>\n",
       "      <td>0.0</td>\n",
       "      <td>70.720025</td>\n",
       "      <td>0.110906</td>\n",
       "      <td>5.025126</td>\n",
       "      <td>0.021848</td>\n",
       "    </tr>\n",
       "    <tr>\n",
       "      <th>100</th>\n",
       "      <td>0.200</td>\n",
       "      <td>0.0</td>\n",
       "      <td>71.834761</td>\n",
       "      <td>0.114936</td>\n",
       "      <td>5.000000</td>\n",
       "      <td>0.022642</td>\n",
       "    </tr>\n",
       "  </tbody>\n",
       "</table>\n",
       "<p>101 rows × 6 columns</p>\n",
       "</div>"
      ],
      "text/plain": [
       "     T[GeV]  muB[GeV]  betabulk_over_T4[fm^-4/GeV^4]  beta_Pi[fm^-4]  \\\n",
       "0     0.100       0.0                       9.173387        0.000917   \n",
       "1     0.101       0.0                       9.458146        0.000984   \n",
       "2     0.102       0.0                       9.747904        0.001055   \n",
       "3     0.103       0.0                      10.042641        0.001130   \n",
       "4     0.104       0.0                      10.342339        0.001210   \n",
       "..      ...       ...                            ...             ...   \n",
       "96    0.196       0.0                      67.448347        0.099540   \n",
       "97    0.197       0.0                      68.526827        0.103211   \n",
       "98    0.198       0.0                      69.617382        0.106999   \n",
       "99    0.199       0.0                      70.720025        0.110906   \n",
       "100   0.200       0.0                      71.834761        0.114936   \n",
       "\n",
       "     beta[GeV^-1]  beta_Pi[GeV/fm^3]  \n",
       "0       10.000000           0.000181  \n",
       "1        9.900990           0.000194  \n",
       "2        9.803922           0.000208  \n",
       "3        9.708738           0.000223  \n",
       "4        9.615385           0.000238  \n",
       "..            ...                ...  \n",
       "96       5.102041           0.019609  \n",
       "97       5.076142           0.020333  \n",
       "98       5.050505           0.021079  \n",
       "99       5.025126           0.021848  \n",
       "100      5.000000           0.022642  \n",
       "\n",
       "[101 rows x 6 columns]"
      ]
     },
     "execution_count": 7,
     "metadata": {},
     "output_type": "execute_result"
    }
   ],
   "source": [
    "beta_Pi_df"
   ]
  },
  {
   "cell_type": "code",
   "execution_count": 8,
   "metadata": {},
   "outputs": [
    {
     "data": {
      "image/png": "[encoded data removed]",
      "text/plain": [
       "<Figure size 432x288 with 2 Axes>"
      ]
     },
     "metadata": {
      "needs_background": "light"
     },
     "output_type": "display_data"
    }
   ],
   "source": [
    "xx, yy = np.meshgrid(beta_grid, rho_grid)\n",
    "plt.contourf(xx, yy, np.log(eps_grid.T) )\n",
    "plt.xlabel(r\"$\\beta$ [GeV]$^{-1}$\")\n",
    "plt.ylabel(r\"$\\rho$\")\n",
    "plt.title(r\"$ln(e)$ [GeV]$^{-4}$\")\n",
    "plt.colorbar()\n",
    "plt.tight_layout(True)\n",
    "plt.show()"
   ]
  },
  {
   "cell_type": "code",
   "execution_count": 9,
   "metadata": {},
   "outputs": [
    {
     "data": {
      "image/png": "[encoded data removed]",
      "text/plain": [
       "<Figure size 432x288 with 2 Axes>"
      ]
     },
     "metadata": {
      "needs_background": "light"
     },
     "output_type": "display_data"
    }
   ],
   "source": [
    "xx, yy = np.meshgrid(beta_grid, rho_grid)\n",
    "#fig, axes = plt.subplots(1, 1, figsize=(6,4))\n",
    "plt.contourf(xx, yy, np.log(P_grid.T) )\n",
    "plt.xlabel(r\"$\\beta$ [GeV]$^{-1}$\")\n",
    "plt.ylabel(r\"$\\rho$\")\n",
    "plt.title(r\"$ln(P)$ [GeV]$^{-4}$\")\n",
    "plt.colorbar()\n",
    "plt.tight_layout(True)\n",
    "plt.show()"
   ]
  },
  {
   "cell_type": "code",
   "execution_count": 10,
   "metadata": {},
   "outputs": [
    {
     "data": {
      "image/png": "[encoded data removed]",
      "text/plain": [
       "<Figure size 432x288 with 1 Axes>"
      ]
     },
     "metadata": {
      "needs_background": "light"
     },
     "output_type": "display_data"
    }
   ],
   "source": [
    "plt.plot(beta_grid, np.log(eq_eps_grid) )\n",
    "plt.xlabel(r'$\\beta$ [GeV]$^{-1}$')\n",
    "plt.ylabel(r'$\\ln(\\epsilon)$ [GeV]$^{-4}$')\n",
    "plt.title(r'Equil. EoS')\n",
    "plt.show()"
   ]
  },
  {
   "cell_type": "markdown",
   "metadata": {},
   "source": [
    "### Now we will create interpolations of the grid. \n",
    "This will allow us to invert the relations\n",
    "$$\\epsilon = \\epsilon(\\beta, \\rho)$$\n",
    "$$P = P(\\beta, \\rho)$$\n",
    "\n",
    "into \n",
    "\n",
    "$$\\beta = \\beta(\\epsilon, P)$$\n",
    "$$\\rho = \\rho(\\epsilon, P).$$\n",
    "\n",
    "Once we have the interpolations $\\epsilon = \\epsilon(\\beta, \\rho)$ and $P = P(\\beta, \\rho)$, these can be inverted simultaneously by a two-dimensional root-finding routine.\n",
    "The Andersen method in the `SciPy` implementation has done fairly well for our tests.\n",
    "\n",
    "In a real phenomenological setting, each cell on the particlization surface may have a different isotropic pressure, and perhaps a different energy density. In this case, the interpolations can be loaded and reused together with the root finding method to find the Lagrange multipliers $\\beta$ and $\\rho$ for each cell."
   ]
  },
  {
   "cell_type": "code",
   "execution_count": 11,
   "metadata": {},
   "outputs": [],
   "source": [
    "#creating interpolations of the energy density e(beta, lambda) \n",
    "#and total pressure P(beta, lambda)\n",
    "ln_eps_interp = RectBivariateSpline(beta_grid, rho_grid, np.log(eps_grid) )\n",
    "ln_P_interp = RectBivariateSpline(beta_grid, rho_grid, np.log(P_grid) )\n",
    "\n",
    "ln_eq_eps_interp = interpolate.interp1d(np.log(eq_eps_grid), beta_grid )\n",
    "ln_eq_eps_given_beta_interp = interpolate.interp1d(beta_grid, np.log(eq_eps_grid) )\n",
    "\n",
    "ln_eq_p_interp = interpolate.interp1d(beta_grid, np.log(eq_p_grid) )\n",
    "#ln_eq_beta_Pi_interp = interpolate.interp1d(beta_grid, np.log(eq_beta_Pi_grid) )\n",
    "\n",
    "#careful beta_Pi < 0\n",
    "ln_beta_Pi_interp = interpolate.interp1d(beta_Pi_df['beta[GeV^-1]'], np.log(beta_Pi_df['beta_Pi[GeV/fm^3]']) )\n",
    "F_interp = interpolate.interp1d(F_df['beta[GeV^-1]'],  F_df['F[GeV]'] )"
   ]
  },
  {
   "cell_type": "markdown",
   "metadata": {},
   "source": [
    "### Testing the root-finding method and plotting the distribution"
   ]
  },
  {
   "cell_type": "code",
   "execution_count": 12,
   "metadata": {},
   "outputs": [
    {
     "name": "stdout",
     "output_type": "stream",
     "text": [
      "ln_e0 = -6.2853249659612676, ln_P0 = -8.731406443593077\n"
     ]
    }
   ],
   "source": [
    "##FOR TESTING ROOT SOLVING\n",
    "#true values of beta and rho\n",
    "#beta_true = 6.\n",
    "#rho_true = 0.5\n",
    "#the values of energy density and total pressure are given\n",
    "#ln_e0 = ln_eps_interp(beta_true, rho_true).flatten()[0] \n",
    "#ln_P0 = ln_P_interp(beta_true, rho_true).flatten()[0] \n",
    "##FOR TESTING ROOT SOLVING\n",
    "\n",
    "##FOR PLOTTING \n",
    "T_sw = 0.15 #typical switching temperature in GeV\n",
    "beta_sw = 1./ T_sw\n",
    "\n",
    "ln_e0 = ln_eq_eps_given_beta_interp(beta_sw) \n",
    "\n",
    "p_sw = np.exp( ln_eq_p_interp(beta_sw) )\n",
    "bulk_Pi_sw = -1.* p_sw / 2\n",
    "#bulk_Pi_sw = 0. # to test if all three agree for Pi = 0\n",
    "P0_sw = p_sw + bulk_Pi_sw\n",
    "ln_P0 = np.log(P0_sw)\n",
    "##FOR PLOTTING \n",
    "\n",
    "\n",
    "beta_Pi0 = np.exp(ln_beta_Pi_interp(beta_sw))\n",
    "F0 = F_interp(beta_sw)\n",
    "\n",
    "print(\"ln_e0 = \" + str(ln_e0) + \", ln_P0 = \" + str(ln_P0))\n",
    "\n",
    "def my_fun(x):\n",
    "    \"\"\"input is vector with x[0] = beta, x[1] = rho\"\"\"\n",
    "    ln_eps_func = ln_eps_interp(x[0], x[1]).flatten()[0] \n",
    "    ln_P_func = ln_P_interp(x[0], x[1]).flatten()[0] \n",
    "    return [ln_eps_func - ln_e0, ln_P_func - ln_P0]"
   ]
  },
  {
   "cell_type": "code",
   "execution_count": 13,
   "metadata": {},
   "outputs": [
    {
     "data": {
      "text/plain": [
       "     fun: array([-2.11910489e-11, -1.33903377e-09])\n",
       " message: 'A solution was found at the specified tolerance.'\n",
       "     nit: 18\n",
       "  status: 1\n",
       " success: True\n",
       "       x: array([5.39602141, 0.71267794])"
      ]
     },
     "execution_count": 13,
     "metadata": {},
     "output_type": "execute_result"
    }
   ],
   "source": [
    "#the initial guess\n",
    "guess = [7.0, 0.0] #[beta, rho]\n",
    "\n",
    "method='anderson'\n",
    "tol=1e-7\n",
    "maxiter = int(1e5)\n",
    "\n",
    "solution = optimize.root(my_fun, guess, method=method, tol=tol, options={'maxiter':maxiter})\n",
    "solution"
   ]
  },
  {
   "cell_type": "code",
   "execution_count": 14,
   "metadata": {},
   "outputs": [
    {
     "data": {
      "image/png": "[encoded data removed]",
      "text/plain": [
       "<Figure size 504x504 with 1 Axes>"
      ]
     },
     "metadata": {
      "needs_background": "light"
     },
     "output_type": "display_data"
    }
   ],
   "source": [
    "#now plot these functions\n",
    "\n",
    "#m = 0.135 #pion\n",
    "m = 0.94 #proton\n",
    "sign  = -1.\n",
    "degen = 1. #fix this!!!!\n",
    "\n",
    "fig, axes = plt.subplots(1, 1, figsize=(7,7))\n",
    "beta_soln = solution.x[0]\n",
    "rho_soln = solution.x[1]\n",
    " \n",
    "E_grid = np.linspace(m, 5.*m, 500)\n",
    "\n",
    "f_ME_vals = [f_dist(E, beta_soln, rho_soln, m, sign) for E in E_grid]\n",
    "f_eq_vals = [f_eq(E, beta_sw, sign) for E in E_grid]\n",
    "f_lin_CE_vals = [f_CE_lin(E, beta_sw, bulk_Pi_sw, beta_Pi0, F0, m, sign, degen) \\\n",
    "                 for E in E_grid] \n",
    "plt.semilogy()\n",
    "plt.plot(E_grid, f_eq_vals, lw=3, label=r'$f_{\\rm eq}$', ls='-', color='b')\n",
    "plt.plot(E_grid, f_lin_CE_vals, lw=3, label=r'$f_{\\rm CE}$', ls=':', color='r')\n",
    "\n",
    "#ratio = np.array(f_lin_CE_vals) / np.array(f_eq_vals)\n",
    "#plt.plot(E_grid, ratio, lw=3, label=r'$f_{\\rm CE} / f_{\\rm eq}$', ls=':', color='r')\n",
    "\n",
    "plt.xlabel(r'$E$[GeV]')\n",
    "plt.ylabel(r'$f(E)$')\n",
    "plt.legend()\n",
    "plt.tight_layout(True)\n",
    "plt.savefig('proton_dist.png', dpi=400)\n",
    "plt.show()"
   ]
  },
  {
   "cell_type": "code",
   "execution_count": null,
   "metadata": {},
   "outputs": [],
   "source": []
  }
 ],
 "metadata": {
  "kernelspec": {
   "display_name": "Python 3",
   "language": "python",
   "name": "python3"
  },
  "language_info": {
   "codemirror_mode": {
    "name": "ipython",
    "version": 3
   },
   "file_extension": ".py",
   "mimetype": "text/x-python",
   "name": "python",
   "nbconvert_exporter": "python",
   "pygments_lexer": "ipython3",
   "version": "3.6.8"
  }
 },
 "nbformat": 4,
 "nbformat_minor": 2
}
