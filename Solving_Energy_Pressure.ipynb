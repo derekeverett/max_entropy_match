{
 "cells": [
  {
   "cell_type": "code",
   "execution_count": 1,
   "metadata": {},
   "outputs": [],
   "source": [
    "%load_ext Cython\n",
    "from scipy import integrate\n",
    "from scipy import interpolate\n",
    "from scipy.interpolate import RectBivariateSpline\n",
    "from scipy import optimize\n",
    "import matplotlib.pyplot as plt\n",
    "import seaborn as sns\n",
    "import numpy as np\n",
    "import dill\n",
    "sns.set()"
   ]
  },
  {
   "cell_type": "code",
   "execution_count": 2,
   "metadata": {},
   "outputs": [
    {
     "name": "stderr",
     "output_type": "stream",
     "text": [
      "/Users/derek/miniconda3/lib/python3.6/site-packages/scipy/integrate/quadpack.py:364: IntegrationWarning: The occurrence of roundoff error is detected, which prevents \n",
      "  the requested tolerance from being achieved.  The error may be \n",
      "  underestimated.\n",
      "  warnings.warn(msg, IntegrationWarning)\n",
      "/Users/derek/miniconda3/lib/python3.6/site-packages/scipy/integrate/quadpack.py:364: IntegrationWarning: The maximum number of subdivisions (50) has been achieved.\n",
      "  If increasing the limit yields no improvement it is advised to analyze \n",
      "  the integrand in order to determine the difficulties.  If the position of a \n",
      "  local difficulty can be determined (singularity, discontinuity) one will \n",
      "  probably gain from splitting up the interval and calling the integrator \n",
      "  on the subranges.  Perhaps a special-purpose integrator should be used.\n",
      "  warnings.warn(msg, IntegrationWarning)\n"
     ]
    }
   ],
   "source": [
    "%%cython \n",
    "import numpy as np\n",
    "cimport numpy as np\n",
    "from scipy import integrate\n",
    "import time\n",
    "from libc.math cimport exp\n",
    "from libc.math cimport sqrt\n",
    "\n",
    "DTYPE = np.float\n",
    "ctypedef np.float_t DTYPE_t\n",
    "\n",
    "from species import species_dict, _normalize_species\n",
    "for pid in species_dict.keys():\n",
    "    particle = species_dict[pid]\n",
    "    particle['sign'] = 1. if particle['boson'] else -1.\n",
    "\n",
    "#physical constants, units...\n",
    "cdef float hbarc = 0.197 # GeV * fm\n",
    "\n",
    "############################\n",
    "########USER OPTIONS########\n",
    "chosen_particles = [111, 211, 2212, 321] #particles included in thermodynamic quantities\n",
    "\n",
    "#Grid parameters\n",
    "cdef int npts_beta = 100 #size of grid in beta \n",
    "cdef int npts_rho = 150 #size of grid in rho \n",
    "\n",
    "cdef float T_eff_max_GeV = 0.2\n",
    "cdef float T_eff_min_GeV = 0.1\n",
    "\n",
    "#|lambda| <= |beta|\n",
    "#so define rho by lambda = rho * beta, with rho in [-1, 1]\n",
    "cdef float rho_min = -0.95\n",
    "cdef float rho_max = 0.95\n",
    "############################\n",
    "########USER OPTIONS########\n",
    "\n",
    "cdef float T_eff_max_fm = T_eff_max_GeV / hbarc #fm^-1\n",
    "cdef float T_eff_min_fm = T_eff_min_GeV / hbarc #fm^-1\n",
    "\n",
    "cdef float beta_min = 1. / T_eff_max_fm #fm\n",
    "cdef float beta_max = 1. / T_eff_min_fm #fm\n",
    "beta_grid = np.linspace(beta_min, beta_max, npts_beta)\n",
    "\n",
    "rho_grid = np.linspace(rho_min, rho_max, npts_rho)\n",
    "\n",
    "# The Max. Entropy Distribution Function\n",
    "cdef float f_dist(float E, float beta, float rho, float m, float sign):\n",
    "    cdef float E2, m2, lambdapi, arg\n",
    "    E2 = E*E\n",
    "    m2 = m*m\n",
    "    lambdapi = rho*beta\n",
    "    arg = E * ( beta + lambdapi*(1. - m2/E2) )\n",
    "    return 1./(exp(arg) - sign)\n",
    "\n",
    "# The Equil. Distribution Function\n",
    "cdef float f_eq(float E, float beta_eq, float sign):\n",
    "    cdef arg\n",
    "    arg = beta_eq * E\n",
    "    return 1./(exp(arg) - sign)\n",
    "\n",
    "cdef float eps_integrand(float E, float beta, float rho, float m, float sign):\n",
    "    cdef float E2, m2, lambdapi, num_factor\n",
    "    E2 = E*E\n",
    "    m2 = m*m\n",
    "    #lambdapi = rho*beta\n",
    "    num_factor = (4 * np.pi) / (2. * np.pi)**3.\n",
    "    return num_factor * E2 * sqrt(E2 - m2) * f_dist(E, beta, rho, m, sign)\n",
    "    \n",
    "cdef float eps(float beta, float rho, float m, float sign):\n",
    "    cdef val, err\n",
    "    val, err = integrate.quad(eps_integrand, m, np.inf, args=(beta, rho, m, sign))\n",
    "    return val\n",
    "\n",
    "cdef float P_integrand(float E, float beta, float rho, float m, float sign):\n",
    "    cdef float E2, m2, num_factor\n",
    "    E2 = E*E\n",
    "    m2 = m*m\n",
    "    #lambdapi = rho*beta\n",
    "    num_factor = (4 * np.pi) / (2. * np.pi)**3. / 3.\n",
    "    return num_factor * (E2 - m2)**(1.5) * f_dist(E, beta, rho, m, sign)\n",
    "    \n",
    "cdef float P(float beta, float rho, float m, float sign):\n",
    "    cdef float val, err\n",
    "    val, err = integrate.quad(P_integrand, m, np.inf, args=(beta, rho, m, sign))\n",
    "    return val\n",
    "\n",
    "\n",
    "#Calculate the grid\n",
    "recalculate_e_P = True\n",
    "\n",
    "cdef np.ndarray eps_grid = np.zeros((npts_beta, npts_rho), dtype=DTYPE)\n",
    "cdef np.ndarray P_grid = np.zeros((npts_beta, npts_rho), dtype=DTYPE)\n",
    "cdef np.ndarray eq_eps_grid = np.zeros(npts_beta, dtype=DTYPE)\n",
    "\n",
    "cdef float m, sign, degen, has_anti\n",
    "cdef float beta, rho\n",
    "cdef int ibeta, irho\n",
    "\n",
    "t1 = time.time()\n",
    "if recalculate_e_P:\n",
    "    for ibeta, beta in enumerate(beta_grid):\n",
    "        for irho, rho in enumerate(rho_grid):\n",
    "            #for pid in species_dict.keys(): #sum over species\n",
    "            for pid in chosen_particles: #sum over species\n",
    "                has_anti = 2. if species_dict[pid]['has_anti'] else 1.\n",
    "                m = species_dict[pid]['mass']\n",
    "                sign = species_dict[pid]['sign']\n",
    "                degen = species_dict[pid]['degen']\n",
    "                \n",
    "                prefac = has_anti * degen\n",
    "                \n",
    "                eps_grid[ibeta, irho] += prefac * eps(beta, rho, m, sign)\n",
    "                P_grid[ibeta, irho] += prefac * P(beta, rho, m, sign)\n",
    "                eq_eps_grid[ibeta] += prefac * eps(beta, 0.0, m, sign)\n",
    "        \n",
    "    np.savetxt(\"grids/eps.dat\", eps_grid)\n",
    "    np.savetxt(\"grids/P.dat\", P_grid)\n",
    "    np.savetxt(\"grids/eq_eps.dat\", eq_eps_grid)\n",
    "t2 = time.time()"
   ]
  },
  {
   "cell_type": "code",
   "execution_count": 3,
   "metadata": {},
   "outputs": [
    {
     "name": "stdout",
     "output_type": "stream",
     "text": [
      "Time elapsed : 25.492184162139893 sec\n"
     ]
    }
   ],
   "source": [
    "print(\"Time elapsed : \" + str(t2-t1) + \" sec\")"
   ]
  },
  {
   "cell_type": "markdown",
   "metadata": {},
   "source": [
    "## These cells build the grid of energy density and pressure which we will interpolate\n",
    "They take a while to run. Unless we need to change the particle/grid options, we can just load the grid from disk"
   ]
  },
  {
   "cell_type": "code",
   "execution_count": 4,
   "metadata": {},
   "outputs": [],
   "source": [
    "#load the pre-calculated grid\n",
    "eps_grid = np.loadtxt(\"grids/eps.dat\")\n",
    "P_grid = np.loadtxt(\"grids/P.dat\")\n",
    "eq_eps_grid = np.loadtxt(\"grids/eq_eps.dat\")"
   ]
  },
  {
   "cell_type": "code",
   "execution_count": 5,
   "metadata": {},
   "outputs": [
    {
     "data": {
      "image/png": "[encoded data removed]",
      "text/plain": [
       "<Figure size 576x432 with 2 Axes>"
      ]
     },
     "metadata": {
      "needs_background": "light"
     },
     "output_type": "display_data"
    }
   ],
   "source": [
    "xx, yy = np.meshgrid(beta_grid, rho_grid)\n",
    "fig, axes = plt.subplots(1, 1, figsize=(8,6))\n",
    "plt.contourf(xx, yy, np.log(eps_grid.T) )\n",
    "plt.xlabel(r\"$\\beta$\")\n",
    "plt.ylabel(r\"$\\rho$\")\n",
    "plt.title(r\"$ln(e)$\")\n",
    "plt.colorbar()\n",
    "plt.tight_layout(True)\n",
    "plt.show()"
   ]
  },
  {
   "cell_type": "code",
   "execution_count": 6,
   "metadata": {},
   "outputs": [
    {
     "data": {
      "image/png": "[encoded data removed]",
      "text/plain": [
       "<Figure size 576x432 with 2 Axes>"
      ]
     },
     "metadata": {
      "needs_background": "light"
     },
     "output_type": "display_data"
    }
   ],
   "source": [
    "xx, yy = np.meshgrid(beta_grid, rho_grid)\n",
    "fig, axes = plt.subplots(1, 1, figsize=(8,6))\n",
    "plt.contourf(xx, yy, np.log(P_grid.T) )\n",
    "plt.xlabel(r\"$\\beta$\")\n",
    "plt.ylabel(r\"$\\rho$\")\n",
    "plt.title(r\"$ln(P)$\")\n",
    "plt.colorbar()\n",
    "plt.tight_layout(True)\n",
    "plt.show()"
   ]
  },
  {
   "cell_type": "code",
   "execution_count": 7,
   "metadata": {},
   "outputs": [],
   "source": [
    "#creating interpolations of the energy density e(beta, lambda) \n",
    "#and total pressure P(beta, lambda)\n",
    "ln_eps_interp = RectBivariateSpline(beta_grid, rho_grid, np.log(eps_grid) )\n",
    "ln_P_interp = RectBivariateSpline(beta_grid, rho_grid, np.log(P_grid) )\n",
    "ln_eq_eps_interp = interpolate.interp1d(np.log(eq_eps_grid), beta_grid )"
   ]
  },
  {
   "cell_type": "code",
   "execution_count": null,
   "metadata": {},
   "outputs": [],
   "source": []
  },
  {
   "cell_type": "code",
   "execution_count": null,
   "metadata": {},
   "outputs": [],
   "source": []
  },
  {
   "cell_type": "code",
   "execution_count": 8,
   "metadata": {},
   "outputs": [
    {
     "name": "stdout",
     "output_type": "stream",
     "text": [
      "ln_e0 = 1.4093193522838892, ln_P0 = 0.26952722105376964\n"
     ]
    }
   ],
   "source": [
    "#true values of beta and rho\n",
    "beta_true = 1.\n",
    "rho_true = -0.1\n",
    "\n",
    "#the values of energy density and total pressure are given\n",
    "ln_e0 = ln_eps_interp(beta_true, rho_true).flatten()[0] \n",
    "ln_P0 = ln_P_interp(beta_true, rho_true).flatten()[0] \n",
    "\n",
    "#find the equilibrium temp.\n",
    "#beta_eq = ln_eq_eps_interp(ln_e0)\n",
    "\n",
    "print(\"ln_e0 = \" + str(ln_e0) + \", ln_P0 = \" + str(ln_P0))\n",
    "\n",
    "def my_fun(x):\n",
    "    \"\"\"input is vector with x[0] = beta, x[1] = rho\"\"\"\n",
    "    ln_eps_func = ln_eps_interp(x[0], x[1]).flatten()[0] \n",
    "    ln_P_func = ln_P_interp(x[0], x[1]).flatten()[0] \n",
    "    return [ln_eps_func - ln_e0, ln_P_func - ln_P0]"
   ]
  },
  {
   "cell_type": "code",
   "execution_count": 9,
   "metadata": {},
   "outputs": [
    {
     "data": {
      "text/plain": [
       "     fun: array([4.89958938e-06, 5.02537859e-06])\n",
       " message: 'A solution was found at the specified tolerance.'\n",
       "     nit: 2434\n",
       "  status: 1\n",
       " success: True\n",
       "       x: array([ 1.00000338, -0.10000424])"
      ]
     },
     "execution_count": 9,
     "metadata": {},
     "output_type": "execute_result"
    }
   ],
   "source": [
    "#the initial guess\n",
    "guess = [1.0, -0.6] #[beta, rho]\n",
    "\n",
    "method='anderson'\n",
    "tol=1e-5\n",
    "maxiter = int(1e5)\n",
    "\n",
    "solution = optimize.root(my_fun, guess, method=method, tol=tol, options={'maxiter':maxiter})\n",
    "solution"
   ]
  },
  {
   "cell_type": "code",
   "execution_count": 10,
   "metadata": {},
   "outputs": [
    {
     "ename": "NameError",
     "evalue": "name 'f_dist' is not defined",
     "output_type": "error",
     "traceback": [
      "\u001b[0;31m---------------------------------------------------------------------------\u001b[0m",
      "\u001b[0;31mNameError\u001b[0m                                 Traceback (most recent call last)",
      "\u001b[0;32m<ipython-input-10-8485951d6a05>\u001b[0m in \u001b[0;36m<module>\u001b[0;34m\u001b[0m\n\u001b[1;32m      5\u001b[0m \u001b[0;34m\u001b[0m\u001b[0m\n\u001b[1;32m      6\u001b[0m \u001b[0mE_grid\u001b[0m \u001b[0;34m=\u001b[0m \u001b[0mnp\u001b[0m\u001b[0;34m.\u001b[0m\u001b[0mlinspace\u001b[0m\u001b[0;34m(\u001b[0m\u001b[0;36m0.1\u001b[0m\u001b[0;34m,\u001b[0m \u001b[0;36m10\u001b[0m\u001b[0;34m,\u001b[0m \u001b[0;36m200\u001b[0m\u001b[0;34m)\u001b[0m\u001b[0;34m\u001b[0m\u001b[0;34m\u001b[0m\u001b[0m\n\u001b[0;32m----> 7\u001b[0;31m \u001b[0mf_vals\u001b[0m \u001b[0;34m=\u001b[0m \u001b[0;34m[\u001b[0m\u001b[0mf_dist\u001b[0m\u001b[0;34m(\u001b[0m\u001b[0mE\u001b[0m\u001b[0;34m*\u001b[0m\u001b[0mm\u001b[0m\u001b[0;34m,\u001b[0m \u001b[0mbeta_soln\u001b[0m\u001b[0;34m,\u001b[0m \u001b[0mrho_soln\u001b[0m\u001b[0;34m,\u001b[0m \u001b[0mm\u001b[0m\u001b[0;34m,\u001b[0m \u001b[0msign\u001b[0m\u001b[0;34m)\u001b[0m \u001b[0;32mfor\u001b[0m \u001b[0mE\u001b[0m \u001b[0;32min\u001b[0m \u001b[0mE_grid\u001b[0m\u001b[0;34m]\u001b[0m\u001b[0;34m\u001b[0m\u001b[0;34m\u001b[0m\u001b[0m\n\u001b[0m\u001b[1;32m      8\u001b[0m \u001b[0mplt\u001b[0m\u001b[0;34m.\u001b[0m\u001b[0msemilogy\u001b[0m\u001b[0;34m(\u001b[0m\u001b[0;34m)\u001b[0m\u001b[0;34m\u001b[0m\u001b[0;34m\u001b[0m\u001b[0m\n\u001b[1;32m      9\u001b[0m \u001b[0mplt\u001b[0m\u001b[0;34m.\u001b[0m\u001b[0mplot\u001b[0m\u001b[0;34m(\u001b[0m\u001b[0mE_grid\u001b[0m\u001b[0;34m,\u001b[0m \u001b[0mf_vals\u001b[0m\u001b[0;34m,\u001b[0m \u001b[0mlw\u001b[0m\u001b[0;34m=\u001b[0m\u001b[0;36m3\u001b[0m\u001b[0;34m,\u001b[0m \u001b[0mlabel\u001b[0m\u001b[0;34m=\u001b[0m\u001b[0;34mr'$f$'\u001b[0m\u001b[0;34m)\u001b[0m\u001b[0;34m\u001b[0m\u001b[0;34m\u001b[0m\u001b[0m\n",
      "\u001b[0;32m<ipython-input-10-8485951d6a05>\u001b[0m in \u001b[0;36m<listcomp>\u001b[0;34m(.0)\u001b[0m\n\u001b[1;32m      5\u001b[0m \u001b[0;34m\u001b[0m\u001b[0m\n\u001b[1;32m      6\u001b[0m \u001b[0mE_grid\u001b[0m \u001b[0;34m=\u001b[0m \u001b[0mnp\u001b[0m\u001b[0;34m.\u001b[0m\u001b[0mlinspace\u001b[0m\u001b[0;34m(\u001b[0m\u001b[0;36m0.1\u001b[0m\u001b[0;34m,\u001b[0m \u001b[0;36m10\u001b[0m\u001b[0;34m,\u001b[0m \u001b[0;36m200\u001b[0m\u001b[0;34m)\u001b[0m\u001b[0;34m\u001b[0m\u001b[0;34m\u001b[0m\u001b[0m\n\u001b[0;32m----> 7\u001b[0;31m \u001b[0mf_vals\u001b[0m \u001b[0;34m=\u001b[0m \u001b[0;34m[\u001b[0m\u001b[0mf_dist\u001b[0m\u001b[0;34m(\u001b[0m\u001b[0mE\u001b[0m\u001b[0;34m*\u001b[0m\u001b[0mm\u001b[0m\u001b[0;34m,\u001b[0m \u001b[0mbeta_soln\u001b[0m\u001b[0;34m,\u001b[0m \u001b[0mrho_soln\u001b[0m\u001b[0;34m,\u001b[0m \u001b[0mm\u001b[0m\u001b[0;34m,\u001b[0m \u001b[0msign\u001b[0m\u001b[0;34m)\u001b[0m \u001b[0;32mfor\u001b[0m \u001b[0mE\u001b[0m \u001b[0;32min\u001b[0m \u001b[0mE_grid\u001b[0m\u001b[0;34m]\u001b[0m\u001b[0;34m\u001b[0m\u001b[0;34m\u001b[0m\u001b[0m\n\u001b[0m\u001b[1;32m      8\u001b[0m \u001b[0mplt\u001b[0m\u001b[0;34m.\u001b[0m\u001b[0msemilogy\u001b[0m\u001b[0;34m(\u001b[0m\u001b[0;34m)\u001b[0m\u001b[0;34m\u001b[0m\u001b[0;34m\u001b[0m\u001b[0m\n\u001b[1;32m      9\u001b[0m \u001b[0mplt\u001b[0m\u001b[0;34m.\u001b[0m\u001b[0mplot\u001b[0m\u001b[0;34m(\u001b[0m\u001b[0mE_grid\u001b[0m\u001b[0;34m,\u001b[0m \u001b[0mf_vals\u001b[0m\u001b[0;34m,\u001b[0m \u001b[0mlw\u001b[0m\u001b[0;34m=\u001b[0m\u001b[0;36m3\u001b[0m\u001b[0;34m,\u001b[0m \u001b[0mlabel\u001b[0m\u001b[0;34m=\u001b[0m\u001b[0;34mr'$f$'\u001b[0m\u001b[0;34m)\u001b[0m\u001b[0;34m\u001b[0m\u001b[0;34m\u001b[0m\u001b[0m\n",
      "\u001b[0;31mNameError\u001b[0m: name 'f_dist' is not defined"
     ]
    },
    {
     "data": {
      "image/png": "[encoded data removed]",
      "text/plain": [
       "<Figure size 576x432 with 1 Axes>"
      ]
     },
     "metadata": {
      "needs_background": "light"
     },
     "output_type": "display_data"
    }
   ],
   "source": [
    "#now plot the function\n",
    "fig, axes = plt.subplots(1, 1, figsize=(8,6))\n",
    "beta_soln = solution.x[0]\n",
    "rho_soln = solution.x[1]\n",
    "\n",
    "E_grid = np.linspace(0.1, 10, 200)\n",
    "f_vals = [f_dist(E*m, beta_soln, rho_soln, m, sign) for E in E_grid]\n",
    "plt.semilogy()\n",
    "plt.plot(E_grid, f_vals, lw=3, label=r'$f$')\n",
    "plt.xlabel(r'$E/m$')\n",
    "plt.tight_layout(True)"
   ]
  },
  {
   "cell_type": "code",
   "execution_count": null,
   "metadata": {},
   "outputs": [],
   "source": []
  },
  {
   "cell_type": "code",
   "execution_count": null,
   "metadata": {},
   "outputs": [],
   "source": []
  }
 ],
 "metadata": {
  "kernelspec": {
   "display_name": "Python 3",
   "language": "python",
   "name": "python3"
  },
  "language_info": {
   "codemirror_mode": {
    "name": "ipython",
    "version": 3
   },
   "file_extension": ".py",
   "mimetype": "text/x-python",
   "name": "python",
   "nbconvert_exporter": "python",
   "pygments_lexer": "ipython3",
   "version": "3.6.8"
  }
 },
 "nbformat": 4,
 "nbformat_minor": 2
}
