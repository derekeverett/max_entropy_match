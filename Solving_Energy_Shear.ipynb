{
 "cells": [
  {
   "cell_type": "markdown",
   "metadata": {},
   "source": [
    "# Maximum Entropy Matching Distribution Function\n",
    "\n",
    "This notebook can construct the distribution function which maximizes the kinetic entropy subject to the constraints of matching the energy density $\\epsilon$ and the shear stress $\\pi^{\\mu\\nu}$.\n",
    "\n",
    "The entropy density current is expressed\n",
    "\n",
    "$$s^{\\mu}(x) = - \\sum_h \\frac{g_h}{(2\\pi)^3}\\int \\frac{d^3p}{p_0} p^{\\mu} \\phi[f_h],$$\n",
    "\n",
    "where $h$ runs over all hadronic species, $g_h$ is the degeneracy of species $h$, and $f_h(x;p)$ is the distribution function of particles of species $h$.\n",
    "\n",
    "The function $\\phi[f_h]$ defined by\n",
    "\n",
    "$$ \\phi[f] \\equiv f \\ln (f) - \\frac{1 + \\theta f}{\\theta} \\ln(1 + \\theta f)$$\n",
    "\n",
    "defines the quantum statistical nature of the particles, with $\\theta = 1$, $0$ or $-1$ for bosons, Maxwell-Boltzmann particles, and fermions respectively."
   ]
  },
  {
   "cell_type": "code",
   "execution_count": 24,
   "metadata": {},
   "outputs": [
    {
     "name": "stdout",
     "output_type": "stream",
     "text": [
      "The Cython extension is already loaded. To reload it, use:\n",
      "  %reload_ext Cython\n"
     ]
    }
   ],
   "source": [
    "%load_ext Cython\n",
    "from scipy import integrate\n",
    "from scipy import interpolate\n",
    "from scipy.interpolate import RectBivariateSpline\n",
    "from scipy import optimize\n",
    "from numpy import linalg as LA\n",
    "from mpmath import *\n",
    "import matplotlib.pyplot as plt\n",
    "import seaborn as sns\n",
    "import numpy as np\n",
    "import dill\n",
    "import pandas as pd\n",
    "import time\n",
    "sns.set()\n",
    "sns.set_style('whitegrid')\n",
    "sns.set_context('talk')"
   ]
  },
  {
   "cell_type": "code",
   "execution_count": 25,
   "metadata": {},
   "outputs": [],
   "source": [
    "#These triple series expressions for epsilon, pi_1 and pi_2 \n",
    "#are still slow for phenomenology\n",
    "#alternatively, the integral expression for the generating \n",
    "#function could be used\n",
    "\n",
    "hbar = 0.197\n",
    "#hbar = 1. #temporary\n",
    "\n",
    "sum_max = 10\n",
    "\n",
    "method_sum='alternating'\n",
    "#method_sum='direct'\n",
    "\n",
    "gamma = memoize(gamma) #speed up mpmath\n",
    "\n",
    "#the angular function\n",
    "def angular(nx, ny, nz):\n",
    "    ns = nx+ny+nz\n",
    "    a = (1+(-1)**(2*nx))*(1+(-1)**(2*ny))*(1+(-1)**(2*nz))/4.\n",
    "    b = gamma((1.+ (2.*nx))/2.) * gamma((1.+ (2.*ny))/2.) * gamma((1.+ (2.*nz))/2.) / gamma((3.+(2.*ns))/2.)\n",
    "    return mpmathify(a*b)\n",
    "\n",
    "angular = memoize(angular) #speed up mpmath\n",
    "\n",
    "def sum_e_fct(beta, g1, g2):\n",
    "    beta = mpmathify(beta)\n",
    "    g1 = mpmathify(g1)\n",
    "    g2 = mpmathify(g2)\n",
    "    g3 = -(g1+g2)\n",
    "    def e_fct(nx, ny, nz):\n",
    "        nx = mpmathify(nx)\n",
    "        ny = mpmathify(ny)\n",
    "        nz = mpmathify(nz)\n",
    "            \n",
    "        ns = nx + ny + nz\n",
    "        a = angular(nx, ny, nz) * gamma(3+ns) / (fac(nx)*fac(ny)*fac(nz))\n",
    "        b = ((-g1/beta)**nx) * ((-g2/beta)**ny) * ((-g3/beta)**nz)\n",
    "        c = (3+ns)\n",
    "        pre_fac = 1./ ((2.*np.pi*hbar)**3.) / (beta ** 4.)\n",
    "        pre_fac = mpmathify(pre_fac)\n",
    "        return pre_fac*a*b*c\n",
    "    return float(nsum( e_fct, [0, sum_max], [0, sum_max], [0, sum_max], method=method_sum ))\n",
    "        \n",
    "def sum_pi_1_fct(beta, g1, g2):\n",
    "    beta = mpmathify(beta)\n",
    "    g1 = mpmathify(g1)\n",
    "    g2 = mpmathify(g2)\n",
    "    g3 = -(g1+g2)\n",
    "    def pi_1_fct(nx, ny, nz):\n",
    "        nx = mpmathify(nx)\n",
    "        ny = mpmathify(ny)\n",
    "        nz = mpmathify(nz)\n",
    "            \n",
    "        ns = nx + ny + nz\n",
    "        a = (-1)**(ns) * angular(nx, ny, nz) * gamma(3+ns) / (fac(nx) * fac(ny) * fac(nz))\n",
    "        b = ((g1/beta)**nx) * ((g2/beta)**ny) * ((g3/beta)**nz)\n",
    "        c = ( (3.+ns)/3. + (nx*beta/g1) )\n",
    "        pre_fac = -1./ ((2.*np.pi*hbar)**3.) / (beta ** 4.)\n",
    "        pre_fac = mpmathify(pre_fac)\n",
    "        return pre_fac*a*b*c \n",
    "    return float(nsum( pi_1_fct, [0, sum_max], [0, sum_max], [0, sum_max], method=method_sum ))\n",
    "\n",
    "def sum_pi_2_fct(beta, g1, g2):\n",
    "    beta = mpmathify(beta)\n",
    "    g1 = mpmathify(g1)\n",
    "    g2 = mpmathify(g2)\n",
    "    g3 = -(g1+g2)\n",
    "    def pi_2_fct(nx, ny, nz):\n",
    "        nx = mpmathify(nx)\n",
    "        ny = mpmathify(ny)\n",
    "        nz = mpmathify(nz)\n",
    "            \n",
    "        ns = nx + ny + nz\n",
    "        a = (-1)**(ns) * angular(nx, ny, nz) * gamma(3+ns) / (fac(nx) * fac(ny) * fac(nz))\n",
    "        b = ((g1/beta)**nx) * ((g2/beta)**ny) * ((g3/beta)**nz)\n",
    "        c = ( (3.+ns)/3. + (ny*beta/g2) )\n",
    "        pre_fac = -1./ ((2.*np.pi*hbar)**3.) / (beta ** 4.)\n",
    "        pre_fac = mpmathify(pre_fac)\n",
    "        return pre_fac*a*b*c \n",
    "    return float(nsum( pi_2_fct, [0, sum_max], [0, sum_max], [0, sum_max], method=method_sum ))"
   ]
  },
  {
   "cell_type": "code",
   "execution_count": 31,
   "metadata": {},
   "outputs": [],
   "source": [
    "#the equilibrium temperature (EoS)\n",
    "def equil_beta(eps):\n",
    "    a = 3. / (eps * np.pi**2. * hbar**3.)\n",
    "    return a**(0.25)\n",
    "\n",
    "def beta_pi(eps):\n",
    "    beta = equil_beta(eps)\n",
    "    I_1_42 = 4. / (5. * np.pi**2. * hbar**3. * beta**5.)\n",
    "    return beta * I_1_42\n",
    "\n",
    "def f_CE(p, e, pi_ij):\n",
    "    beta = equil_beta(e)\n",
    "    beta_pi = beta_pi(e)\n",
    "    p_0 = np.sqrt(p@p) #energy for massless case\n",
    "    f_eq = np.exp(-beta*p_0)\n",
    "    ang_fac = p @ pi_ij @ p\n",
    "    df = beta * f_eq * ang_fac / (2. * p_0 * beta_pi)"
   ]
  },
  {
   "cell_type": "code",
   "execution_count": 32,
   "metadata": {},
   "outputs": [],
   "source": [
    "#this root solving routine is still slow,\n",
    "#but can probably be sped up with a c backend \n",
    "#and some algebraic re-arranging of the various terms\n",
    "#Sage has a cython mpmath backend (https://www.sagemath.org)\n",
    "\n",
    "def root_solve_beta_gamma(e0, pi_1, pi_2, tol=1e-4, maxiter = int(1e5)):    \n",
    "    \n",
    "    def my_fun(x):\n",
    "        beta = x[0]\n",
    "        g1 = x[1]\n",
    "        g2 = x[2]\n",
    "        e_val = sum_e_fct(beta, g1, g2)\n",
    "        pi_1_val = sum_pi_1_fct(beta, g1, g2)\n",
    "        pi_2_val = sum_pi_2_fct(beta, g1, g2)\n",
    "        return [e_val - e0, pi_1_val - pi_1, pi_2_val - pi_2]\n",
    "    \n",
    "    def print_warning(e0, pi_1, pi_2):\n",
    "        print(\"WARNING - NO ROOT FOUND: e0 = \" + str(e0) + \" ; pi_1 = \" + str(pi_1))\n",
    "        \n",
    "    #USE Linear CE RTA to initialize the rootsolver\n",
    "    beta_guess = equil_beta(e0)\n",
    "    beta_pi_guess = beta_pi(e0)\n",
    "    guess_fac = -beta_guess / (2. * beta_pi_guess)\n",
    "    g1_guess = guess_fac * pi_1 \n",
    "    g2_guess = guess_fac * pi_2 \n",
    "    guess = [beta_guess, g1_guess, g2_guess]\n",
    "    print(\"guess = \" + str(guess))\n",
    "    \n",
    "    solution = optimize.root(my_fun, guess, tol=tol)\n",
    "    #solution = optimize.root(my_fun, guess, method=method_root, tol=tol, options={'maxiter':maxiter})\n",
    "    \n",
    "    if (solution.success == False):\n",
    "        print_warning(e0, pi_1, pi_2)\n",
    "        \n",
    "    beta_soln = solution.x[0]\n",
    "    g1_soln = solution.x[1]\n",
    "    g2_soln = solution.x[2]\n",
    "    \n",
    "    return beta_soln, g1_soln, g2_soln, solution"
   ]
  },
  {
   "cell_type": "code",
   "execution_count": 33,
   "metadata": {},
   "outputs": [
    {
     "name": "stdout",
     "output_type": "stream",
     "text": [
      "e = 49.77232274243643 ?=? 49.772\n",
      "pi_1 = -4.035753999037346 ?=? -4.035\n",
      "pi_2 = -5.5907058966960825 ?=? -5.5907\n",
      "e sum eval'd in 0.1926417350769043 sec\n",
      "pi_1 sum eval'd in 0.18334007263183594 sec\n"
     ]
    }
   ],
   "source": [
    "#Checks that the functions are working correctly\n",
    "t1 = time.time()\n",
    "e = sum_e_fct(beta=1., g1=0.1, g2=0.2)\n",
    "t2 = time.time()\n",
    "pi_1 = sum_pi_1_fct(beta=1., g1=0.1, g2=0.2)\n",
    "t3 = time.time()\n",
    "pi_2 = sum_pi_2_fct(beta=1., g1=0.1, g2=0.2)\n",
    "print(\"e = \" + str(e) + \" ?=? 49.772\")\n",
    "print(\"pi_1 = \" + str(pi_1) + \" ?=? -4.035\")\n",
    "print(\"pi_2 = \" + str(pi_2) + \" ?=? -5.5907\")\n",
    "print(\"e sum eval'd in \" + str(t2-t1) + \" sec\")\n",
    "print(\"pi_1 sum eval'd in \" + str(t3-t2) + \" sec\")"
   ]
  },
  {
   "cell_type": "code",
   "execution_count": 34,
   "metadata": {},
   "outputs": [
    {
     "name": "stdout",
     "output_type": "stream",
     "text": [
      "guess = [0.9453850507168635, 0.1437297862862133, 0.19910801399512276]\n"
     ]
    },
    {
     "data": {
      "text/plain": [
       "(1.0000000000095055,\n",
       " 0.10000000004144453,\n",
       " 0.1999999999266035,\n",
       "     fjac: array([[-0.99166623, -0.1145728 , -0.05891655],\n",
       "        [ 0.12837433, -0.91733174, -0.37685874],\n",
       "        [ 0.01086826,  0.38128146, -0.92439512]])\n",
       "      fun: array([-5.17123766e-09,  1.72271974e-10,  2.01718109e-09])\n",
       "  message: 'The solution converged.'\n",
       "     nfev: 13\n",
       "      qtf: array([-2.45084010e-07,  9.76321971e-08,  7.61172764e-08])\n",
       "        r: array([104.88686408, -57.89525924, -87.95218487,  43.7755015 ,\n",
       "         46.55294486,  25.59264355])\n",
       "   status: 1\n",
       "  success: True\n",
       "        x: array([1. , 0.1, 0.2]))"
      ]
     },
     "execution_count": 34,
     "metadata": {},
     "output_type": "execute_result"
    }
   ],
   "source": [
    "#Check the root solving method\n",
    "root_solve_beta_gamma(e, pi_1, pi_2, tol=1e-7, maxiter = int(1e5))"
   ]
  },
  {
   "cell_type": "code",
   "execution_count": 35,
   "metadata": {},
   "outputs": [],
   "source": [
    "def find_shear_eig(pi_ij):\n",
    "    \"\"\"pi_ij should be the shear stress tensor in the LRF\"\"\"\n",
    "    w, v = LA.eig(pi_ij)\n",
    "    return w, v"
   ]
  },
  {
   "cell_type": "code",
   "execution_count": 36,
   "metadata": {},
   "outputs": [],
   "source": [
    "#this function solves for all the lagrange multipliers\n",
    "#and returns them\n",
    "def find_lagrange_multipliers(e, pi_xx, pi_xy, pi_xz, pi_yy, pi_yz):\n",
    "\n",
    "    pi_zz = -(pi_xx + pi_yy) #traceless\n",
    "\n",
    "    #symmetric matrix\n",
    "    pi_ij = np.array( [[pi_xx, pi_xy, pi_xz],[pi_xy, pi_yy, pi_yz],[pi_xz, pi_yz, pi_zz]] )\n",
    "\n",
    "    w, v = find_shear_eig(pi_ij) #w are eig vals, v is matrix of eig vectors\n",
    "\n",
    "    pi_1, pi_2 = w[0], w[1] #first two eig vals\n",
    "\n",
    "    #now root solve to find lagrange multipliers\n",
    "    beta_soln, g1_soln, g2_soln, info = root_solve_beta_gamma(e, pi_1, pi_2, tol=1e-7, maxiter = int(1e5))\n",
    "\n",
    "    g3_soln = -(g1_soln + g2_soln)\n",
    "    #construct the diagonal gamma matrix\n",
    "    gamma_ij_D = np.array( [[g1_soln, 0., 0.],[0., g2_soln, 0.],[0., 0., g3_soln]] )\n",
    "    #now rotate gamma out of the eigenvector basis\n",
    "    gamma_ij = (v.T)@(gamma_ij_D)@(v)\n",
    "    \n",
    "    return beta_soln, gamma_ij, info"
   ]
  },
  {
   "cell_type": "code",
   "execution_count": 39,
   "metadata": {},
   "outputs": [],
   "source": [
    "#the ME distribution\n",
    "def f_dist(p, e, pi_xx, pi_xy, pi_xz, pi_yy, pi_yz):\n",
    "    \"\"\"Input assumes p is a three-vector momentum.\"\"\"\n",
    "    beta, gamma, info = find_lagrange_multipliers(e, pi_xx, pi_xy, pi_xz, pi_yy, pi_yz)\n",
    "    p_0 = np.sqrt(p@p) #energy for massless case\n",
    "    a = np.exp(-beta*p_0)\n",
    "    b = np.exp(-p@gamma@p / p_0)\n",
    "    return a*b, info"
   ]
  },
  {
   "cell_type": "code",
   "execution_count": 41,
   "metadata": {},
   "outputs": [
    {
     "name": "stdout",
     "output_type": "stream",
     "text": [
      "guess = [0.9443069947218412, 0.1770575615103452, 0.1770575615103452]\n"
     ]
    },
    {
     "data": {
      "text/plain": [
       "(0.17661816756910934,     fjac: array([[-0.98956165,  0.10190098,  0.10190155],\n",
       "        [-0.13210209, -0.9240042 , -0.35883878],\n",
       "        [-0.05759143,  0.36855451, -0.92782046]])\n",
       "      fun: array([-7.81703662e-08,  2.39670479e-08,  2.39672273e-08])\n",
       "  message: 'The solution converged.'\n",
       "     nfev: 12\n",
       "      qtf: array([ 4.54191596e-07, -1.12782495e-07, -4.91686629e-08])\n",
       "        r: array([ 202.80039522, -112.39050903, -112.38968675,   35.19113573,\n",
       "          23.95049053,   25.78321121])\n",
       "   status: 1\n",
       "  success: True\n",
       "        x: array([1.00098976, 0.15381181, 0.15381181]))"
      ]
     },
     "execution_count": 41,
     "metadata": {},
     "output_type": "execute_result"
    }
   ],
   "source": [
    "e = 50.\n",
    "pi_xx = -e/10.\n",
    "pi_yy = -e/10.\n",
    "pi_xy = 0.\n",
    "pi_xz = 0.\n",
    "pi_yz = 0.\n",
    "pi_zz = -(pi_xx + pi_yy)\n",
    "\n",
    "pi_ij = np.array( [[pi_xx, pi_xy, pi_xz],[pi_xy, pi_yy, pi_yz],[pi_xz, pi_yz, pi_zz]] )\n",
    "\n",
    "p = np.array([1., 1., 1.])\n",
    "\n",
    "f_dist(p, e, pi_xx, pi_xy, pi_xz, pi_yy, pi_yz)"
   ]
  },
  {
   "cell_type": "code",
   "execution_count": null,
   "metadata": {},
   "outputs": [],
   "source": []
  }
 ],
 "metadata": {
  "kernelspec": {
   "display_name": "Python 3",
   "language": "python",
   "name": "python3"
  },
  "language_info": {
   "codemirror_mode": {
    "name": "ipython",
    "version": 3
   },
   "file_extension": ".py",
   "mimetype": "text/x-python",
   "name": "python",
   "nbconvert_exporter": "python",
   "pygments_lexer": "ipython3",
   "version": "3.6.8"
  }
 },
 "nbformat": 4,
 "nbformat_minor": 2
}
