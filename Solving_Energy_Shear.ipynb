{
 "cells": [
  {
   "cell_type": "code",
   "execution_count": 8,
   "metadata": {},
   "outputs": [
    {
     "name": "stdout",
     "output_type": "stream",
     "text": [
      "The Cython extension is already loaded. To reload it, use:\n",
      "  %reload_ext Cython\n"
     ]
    }
   ],
   "source": [
    "%load_ext Cython\n",
    "from scipy import integrate\n",
    "from scipy import interpolate\n",
    "from scipy.interpolate import RectBivariateSpline\n",
    "from scipy import optimize\n",
    "from numpy import linalg as LA\n",
    "from mpmath import *\n",
    "import matplotlib.pyplot as plt\n",
    "import seaborn as sns\n",
    "import numpy as np\n",
    "import dill\n",
    "import pandas as pd\n",
    "import time\n",
    "sns.set()\n",
    "sns.set_style('whitegrid')\n",
    "sns.set_context('talk')"
   ]
  },
  {
   "cell_type": "code",
   "execution_count": 9,
   "metadata": {},
   "outputs": [],
   "source": [
    "#These triple series expressions for epsilon, pi_1 and pi_2 \n",
    "#are still slow for phenomenology\n",
    "#alternatively, the integral expression for the generating \n",
    "#function could be used\n",
    "\n",
    "hbar = 0.197 #GeV * fm\n",
    "#hbar = 1. #only for testing\n",
    "\n",
    "#the maxmimum number of terms kept in each series\n",
    "#number of computations will scale like sum_max^3 since we\n",
    "#sum over n_1, n_2 and n_3 -- this has a big effect on speed.\n",
    "#one should check that the results have converged, if not - increase sum_max\n",
    "sum_max = 15\n",
    "\n",
    "method_sum='alternating'\n",
    "#method_sum='direct'\n",
    "\n",
    "gamma = memoize(gamma) #speed up mpmath\n",
    "\n",
    "#the angular function\n",
    "def angular(nx, ny, nz):\n",
    "    ns = nx+ny+nz\n",
    "    a = (1+(-1)**(2*nx))*(1+(-1)**(2*ny))*(1+(-1)**(2*nz))/4.\n",
    "    b = gamma((1.+ (2.*nx))/2.) * gamma((1.+ (2.*ny))/2.) * gamma((1.+ (2.*nz))/2.) / gamma((3.+(2.*ns))/2.)\n",
    "    return mpmathify(a*b)\n",
    "\n",
    "angular = memoize(angular) #speed up mpmath\n",
    "\n",
    "def sum_e_fct(beta, g1, g2):\n",
    "    beta = mpmathify(beta)\n",
    "    g1 = mpmathify(g1)\n",
    "    g2 = mpmathify(g2)\n",
    "    g3 = -(g1+g2)\n",
    "    def e_fct(nx, ny, nz):\n",
    "        nx = mpmathify(nx)\n",
    "        ny = mpmathify(ny)\n",
    "        nz = mpmathify(nz)\n",
    "            \n",
    "        ns = nx + ny + nz\n",
    "        a = angular(nx, ny, nz) * gamma(3+ns) / (fac(nx)*fac(ny)*fac(nz))\n",
    "        b = ((-g1/beta)**nx) * ((-g2/beta)**ny) * ((-g3/beta)**nz)\n",
    "        c = (3+ns)\n",
    "        pre_fac = 1./ ((2.*np.pi*hbar)**3.) / (beta ** 4.)\n",
    "        pre_fac = mpmathify(pre_fac)\n",
    "        return pre_fac*a*b*c\n",
    "    return float(nsum( e_fct, [0, sum_max], [0, sum_max], [0, sum_max], method=method_sum ))\n",
    "        \n",
    "def sum_pi_1_fct(beta, g1, g2):\n",
    "    beta = mpmathify(beta)\n",
    "    g1 = mpmathify(g1)\n",
    "    g2 = mpmathify(g2)\n",
    "    g3 = -(g1+g2)\n",
    "    def pi_1_fct(nx, ny, nz):\n",
    "        nx = mpmathify(nx)\n",
    "        ny = mpmathify(ny)\n",
    "        nz = mpmathify(nz)\n",
    "            \n",
    "        ns = nx + ny + nz\n",
    "        a = (-1)**(ns) * angular(nx, ny, nz) * gamma(3+ns) / (fac(nx) * fac(ny) * fac(nz))\n",
    "        b = ((g1/beta)**nx) * ((g2/beta)**ny) * ((g3/beta)**nz)\n",
    "        c = ( (3.+ns)/3. + (nx*beta/g1) )\n",
    "        pre_fac = -1./ ((2.*np.pi*hbar)**3.) / (beta ** 4.)\n",
    "        pre_fac = mpmathify(pre_fac)\n",
    "        return pre_fac*a*b*c \n",
    "    return float(nsum( pi_1_fct, [0, sum_max], [0, sum_max], [0, sum_max], method=method_sum ))\n",
    "\n",
    "def sum_pi_2_fct(beta, g1, g2):\n",
    "    beta = mpmathify(beta)\n",
    "    g1 = mpmathify(g1)\n",
    "    g2 = mpmathify(g2)\n",
    "    g3 = -(g1+g2)\n",
    "    def pi_2_fct(nx, ny, nz):\n",
    "        nx = mpmathify(nx)\n",
    "        ny = mpmathify(ny)\n",
    "        nz = mpmathify(nz)\n",
    "            \n",
    "        ns = nx + ny + nz\n",
    "        a = (-1)**(ns) * angular(nx, ny, nz) * gamma(3+ns) / (fac(nx) * fac(ny) * fac(nz))\n",
    "        b = ((g1/beta)**nx) * ((g2/beta)**ny) * ((g3/beta)**nz)\n",
    "        c = ( (3.+ns)/3. + (ny*beta/g2) )\n",
    "        pre_fac = -1./ ((2.*np.pi*hbar)**3.) / (beta ** 4.)\n",
    "        pre_fac = mpmathify(pre_fac)\n",
    "        return pre_fac*a*b*c \n",
    "    return float(nsum( pi_2_fct, [0, sum_max], [0, sum_max], [0, sum_max], method=method_sum ))"
   ]
  },
  {
   "cell_type": "code",
   "execution_count": 10,
   "metadata": {},
   "outputs": [],
   "source": [
    "#the equilibrium temperature (EoS)\n",
    "def equil_eps(beta):\n",
    "    return 3. / (np.pi**2. * hbar**3. * beta**4.)\n",
    "\n",
    "def equil_beta(eps):\n",
    "    a = 3. / (eps * np.pi**2. * hbar**3.)\n",
    "    return a**(0.25)\n",
    "\n",
    "def beta_pi(eps):\n",
    "    beta = equil_beta(eps)\n",
    "    I_1_42 = 4. / (5. * np.pi**2. * hbar**3. * beta**5.)\n",
    "    return beta * I_1_42\n",
    "\n",
    "def f_CE_RTA(p, e, pi_ij, regulate=False):\n",
    "    beta0 = equil_beta(e)\n",
    "    beta_pi0 = beta_pi(e)\n",
    "    p_0 = np.sqrt(p@p) #energy for massless case\n",
    "    f_eq = np.exp(-beta*p_0)\n",
    "    ang_fac = p @ pi_ij @ p\n",
    "    df = beta0 * f_eq * ang_fac / (2. * p_0 * beta_pi0)\n",
    "    #regulation\n",
    "    if regulate:\n",
    "        df = np.copysign( min(np.fabs(df), f_eq), df )\n",
    "    \n",
    "    return f_eq + df"
   ]
  },
  {
   "cell_type": "code",
   "execution_count": 11,
   "metadata": {},
   "outputs": [],
   "source": [
    "#this root solving routine is still slow,\n",
    "#but can probably be sped up with a c backend \n",
    "#and some algebraic re-arranging of the various terms\n",
    "#Sage has a cython mpmath backend (https://www.sagemath.org)\n",
    "\n",
    "def root_solve_beta_gamma(e0, pi_1, pi_2, tol=1e-4, maxiter = int(1e5)):    \n",
    "    \n",
    "    def my_fun(x):\n",
    "        beta = x[0]\n",
    "        g1 = x[1]\n",
    "        g2 = x[2]\n",
    "        e_val = sum_e_fct(beta, g1, g2)\n",
    "        pi_1_val = sum_pi_1_fct(beta, g1, g2)\n",
    "        pi_2_val = sum_pi_2_fct(beta, g1, g2)\n",
    "        return [e_val - e0, pi_1_val - pi_1, pi_2_val - pi_2]\n",
    "    \n",
    "    def print_warning(e0, pi_1, pi_2):\n",
    "        print(\"WARNING - NO ROOT FOUND: e0 = \" + str(e0) + \" ; pi_1 = \" + str(pi_1))\n",
    "        \n",
    "    #USE Linear CE RTA to initialize the rootsolver\n",
    "    beta_guess = equil_beta(e0)\n",
    "    beta_pi_guess = beta_pi(e0)\n",
    "    guess_fac = -beta_guess / (2. * beta_pi_guess)\n",
    "    #guess_fac *= 0.95 #see if this improves performance\n",
    "    g1_guess = guess_fac * pi_1 \n",
    "    g2_guess = guess_fac * pi_2 \n",
    "    guess = [beta_guess, g1_guess, g2_guess]\n",
    "    print(\"guess = \" + str(guess))\n",
    "    \n",
    "    solution = optimize.root(my_fun, guess, tol=tol) #scipy default method\n",
    "    #solution = optimize.newton(my_fun, guess, tol=tol, full_output=True) #secant method\n",
    "    #solution = optimize.root(my_fun, guess, method='anderson', tol=tol) #anderson method seems unstable\n",
    "    \n",
    "    if (solution.success == False):\n",
    "        print_warning(e0, pi_1, pi_2)\n",
    "        \n",
    "    beta_soln = solution.x[0]\n",
    "    g1_soln = solution.x[1]\n",
    "    g2_soln = solution.x[2]\n",
    "    \n",
    "    return beta_soln, g1_soln, g2_soln, solution"
   ]
  },
  {
   "cell_type": "code",
   "execution_count": 12,
   "metadata": {},
   "outputs": [
    {
     "name": "stdout",
     "output_type": "stream",
     "text": [
      "e = 49.77374549538462 ?=? 49.772\n",
      "pi_1 = -4.036178228003799 ?=? -4.035\n",
      "pi_2 = -5.591086584598979 ?=? -5.5907\n",
      "e sum eval'd in 1.6178600788116455 sec\n",
      "pi_1 sum eval'd in 0.8969261646270752 sec\n"
     ]
    }
   ],
   "source": [
    "#Checks that the functions are working correctly\n",
    "t1 = time.time()\n",
    "e = sum_e_fct(beta=1., g1=0.1, g2=0.2)\n",
    "t2 = time.time()\n",
    "pi_1 = sum_pi_1_fct(beta=1., g1=0.1, g2=0.2)\n",
    "t3 = time.time()\n",
    "pi_2 = sum_pi_2_fct(beta=1., g1=0.1, g2=0.2)\n",
    "print(\"e = \" + str(e) + \" ?=? 49.772\")\n",
    "print(\"pi_1 = \" + str(pi_1) + \" ?=? -4.035\")\n",
    "print(\"pi_2 = \" + str(pi_2) + \" ?=? -5.5907\")\n",
    "print(\"e sum eval'd in \" + str(t2-t1) + \" sec\")\n",
    "print(\"pi_1 sum eval'd in \" + str(t3-t2) + \" sec\")"
   ]
  },
  {
   "cell_type": "code",
   "execution_count": 13,
   "metadata": {},
   "outputs": [
    {
     "name": "stdout",
     "output_type": "stream",
     "text": [
      "guess = [0.9453782948269224, 0.1437397587635434, 0.19911445716652937]\n"
     ]
    },
    {
     "data": {
      "text/plain": [
       "(1.0000000000100218,\n",
       " 0.10000000004330364,\n",
       " 0.19999999992346093,\n",
       "     fjac: array([[-0.99152243, -0.11542105, -0.05967617],\n",
       "        [ 0.12944821, -0.91720255, -0.37680585],\n",
       "        [ 0.01124381,  0.38133642, -0.92436795]])\n",
       "      fun: array([-5.41253797e-09,  1.79812609e-10,  2.10577600e-09])\n",
       "  message: 'The solution converged.'\n",
       "     nfev: 13\n",
       "      qtf: array([-2.47234438e-07,  9.92742106e-08,  7.63860968e-08])\n",
       "        r: array([104.74240461, -57.70136515, -88.01258604,  43.76299821,\n",
       "         46.72021626,  25.65227531])\n",
       "   status: 1\n",
       "  success: True\n",
       "        x: array([1. , 0.1, 0.2]))"
      ]
     },
     "execution_count": 13,
     "metadata": {},
     "output_type": "execute_result"
    }
   ],
   "source": [
    "#Check the root solving method\n",
    "root_solve_beta_gamma(e, pi_1, pi_2, tol=1e-7, maxiter = int(1e5))"
   ]
  },
  {
   "cell_type": "code",
   "execution_count": 14,
   "metadata": {},
   "outputs": [],
   "source": [
    "def find_shear_eig(pi_ij):\n",
    "    \"\"\"pi_ij should be the shear stress tensor in the LRF\"\"\"\n",
    "    w, v = LA.eig(pi_ij)\n",
    "    return w, v"
   ]
  },
  {
   "cell_type": "code",
   "execution_count": 15,
   "metadata": {},
   "outputs": [],
   "source": [
    "#this function solves for all the lagrange multipliers\n",
    "#and returns them\n",
    "def find_lagrange_multipliers(e, pi_xx, pi_xy, pi_xz, pi_yy, pi_yz):\n",
    "\n",
    "    pi_zz = -(pi_xx + pi_yy) #traceless\n",
    "\n",
    "    #symmetric matrix\n",
    "    pi_ij = np.array( [[pi_xx, pi_xy, pi_xz],[pi_xy, pi_yy, pi_yz],[pi_xz, pi_yz, pi_zz]] )\n",
    "\n",
    "    w, v = find_shear_eig(pi_ij) #w are eig vals, v is matrix of eig vectors\n",
    "    #print(\"v.T @ v = \")\n",
    "    #print(v.T @ v)\n",
    "\n",
    "    pi_1, pi_2 = w[0], w[1] #first two eig vals\n",
    "\n",
    "    #now root solve to find lagrange multipliers\n",
    "    beta_soln, g1_soln, g2_soln, info = root_solve_beta_gamma(e, pi_1, pi_2, tol=1e-7, maxiter = int(1e5))\n",
    "\n",
    "    g3_soln = -(g1_soln + g2_soln)\n",
    "    #construct the diagonal gamma matrix\n",
    "    gamma_ij_D = np.array( [[g1_soln, 0., 0.],[0., g2_soln, 0.],[0., 0., g3_soln]] )\n",
    "    #now rotate gamma out of the eigenvector basis\n",
    "    #gamma_ij = (v.T)@(gamma_ij_D)@(v)\n",
    "    gamma_ij = (v)@(gamma_ij_D)@(v.T)\n",
    "    \n",
    "    return beta_soln, gamma_ij, info"
   ]
  },
  {
   "cell_type": "code",
   "execution_count": 16,
   "metadata": {},
   "outputs": [],
   "source": [
    "#the ME distribution\n",
    "def f_dist(p, e, pi_xx, pi_xy, pi_xz, pi_yy, pi_yz):\n",
    "    \"\"\"Input assumes p is a three-vector momentum.\"\"\"\n",
    "    beta, gamma_ij, info = find_lagrange_multipliers(e, pi_xx, pi_xy, pi_xz, pi_yy, pi_yz)\n",
    "    p_0 = np.sqrt(p@p) #energy for massless case\n",
    "    a = np.exp(-beta*p_0)\n",
    "    b = np.exp(-p@gamma_ij@p / p_0)\n",
    "    return a*b, info\n",
    "\n",
    "#the ME distribution fast version (assumes roots found)\n",
    "def f_dist_fast(p, beta, gamma_ij):\n",
    "    \"\"\"Input assumes p is a three-vector momentum.\"\"\"\n",
    "    p_0 = np.sqrt(p@p) #energy for massless case\n",
    "    a = np.exp(-beta*p_0)\n",
    "    b = np.exp(-p@gamma_ij@p / p_0)\n",
    "    return a*b"
   ]
  },
  {
   "cell_type": "markdown",
   "metadata": {},
   "source": [
    "## Plots"
   ]
  },
  {
   "cell_type": "code",
   "execution_count": 17,
   "metadata": {},
   "outputs": [
    {
     "name": "stdout",
     "output_type": "stream",
     "text": [
      "guess = [6.666666666666667, -0.8333333333333336, 1.6666666666666672]\n"
     ]
    }
   ],
   "source": [
    "T_sw = 0.15\n",
    "beta_sw = 1./T_sw\n",
    "e = equil_eps(beta_sw)\n",
    "\n",
    "#Conformal EoS\n",
    "p_eq = e / 3.\n",
    "\n",
    "R_pi_inv = 1/5.\n",
    "\n",
    "#shear tensor\n",
    "pi_xx = p_eq * R_pi_inv\n",
    "pi_zz = pi_xx\n",
    "pi_xy = 0.\n",
    "pi_xz = 0.\n",
    "pi_yz = 0.\n",
    "pi_yy = -(pi_xx + pi_zz)\n",
    "\n",
    "pi_ij = np.array( [[pi_xx, pi_xy, pi_xz],[pi_xy, pi_yy, pi_yz],[pi_xz, pi_yz, pi_zz]] )\n",
    "\n",
    "beta, gamma_ij, info = find_lagrange_multipliers(e, pi_xx, pi_xy, pi_xz, pi_yy, pi_yz)"
   ]
  },
  {
   "cell_type": "code",
   "execution_count": 18,
   "metadata": {},
   "outputs": [],
   "source": [
    "#plot angular distribution\n",
    "phip_vals = np.linspace(0., 2.*np.pi, 100)\n",
    "p_mag = 3. / beta_sw\n",
    "\n",
    "f_ME_ratio = []\n",
    "f_CE_ratio = []\n",
    "\n",
    "for phip in phip_vals:\n",
    "    px = p_mag * np.cos(phip)\n",
    "    py = p_mag * np.sin(phip)\n",
    "    pz = 0.\n",
    "    p = np.array([px, py, pz])\n",
    "    \n",
    "    f_eq = f_dist_fast(p, beta_sw, np.zeros((3,3)))\n",
    "    f_ME = f_dist_fast(p, beta, gamma_ij)\n",
    "    f_CE = f_CE_RTA(p, e, pi_ij)\n",
    "    \n",
    "    ratio_ME = f_ME / f_eq\n",
    "    ratio_CE = f_CE / f_eq\n",
    "    \n",
    "    f_ME_ratio.append(ratio_ME)\n",
    "    f_CE_ratio.append(ratio_CE)"
   ]
  },
  {
   "cell_type": "code",
   "execution_count": 19,
   "metadata": {},
   "outputs": [
    {
     "data": {
      "image/png": "[encoded data removed]",
      "text/plain": [
       "<Figure size 432x288 with 1 Axes>"
      ]
     },
     "metadata": {},
     "output_type": "display_data"
    }
   ],
   "source": [
    "plt.plot(phip_vals, f_ME_ratio, label=r'$f_{\\rm ME} / f_{\\rm eq}$', ls='--', lw=3)\n",
    "plt.plot(phip_vals, f_CE_ratio, label=r'$f_{\\rm CE} / f_{\\rm eq}$', ls=':', lw=3)\n",
    "plt.xlabel(r'$\\phi_p$')\n",
    "plt.ylabel(r'$f(|p = 3T|, \\phi_p, p_z=0)$')\n",
    "plt.legend(loc=(.15, .7), borderpad=0.1, labelspacing=0.2, handlelength=1.5, handleheight=1.5)\n",
    "plt.tight_layout(True)\n",
    "plt.savefig('plots/shear_phip_dist.png', dpi=500)\n",
    "plt.show()"
   ]
  },
  {
   "cell_type": "code",
   "execution_count": 20,
   "metadata": {},
   "outputs": [
    {
     "name": "stdout",
     "output_type": "stream",
     "text": [
      "guess = [6.666666666666667, -0.8333333333333336, -0.8333333333333336]\n"
     ]
    }
   ],
   "source": [
    "T_sw = 0.15\n",
    "beta_sw = 1./T_sw\n",
    "e = equil_eps(beta_sw)\n",
    "\n",
    "#Conformal EoS\n",
    "p_eq = e / 3.\n",
    "\n",
    "R_pi_inv = 1/5.\n",
    "\n",
    "#shear tensor\n",
    "pi_xx = p_eq * R_pi_inv\n",
    "pi_yy = pi_xx\n",
    "pi_xy = 0.\n",
    "pi_xz = 0.\n",
    "pi_yz = 0.\n",
    "pi_zz = -(pi_xx + pi_yy)\n",
    "\n",
    "pi_ij = np.array( [[pi_xx, pi_xy, pi_xz],[pi_xy, pi_yy, pi_yz],[pi_xz, pi_yz, pi_zz]] )\n",
    "\n",
    "beta, gamma_ij, info = find_lagrange_multipliers(e, pi_xx, pi_xy, pi_xz, pi_yy, pi_yz)"
   ]
  },
  {
   "cell_type": "code",
   "execution_count": 21,
   "metadata": {},
   "outputs": [],
   "source": [
    "#plot angular distribution\n",
    "thetap_vals = np.linspace(0., np.pi, 100)\n",
    "p_mag = 3. / beta_sw\n",
    "\n",
    "f_ME_ratio = []\n",
    "f_CE_ratio = []\n",
    "\n",
    "for thetap in thetap_vals:\n",
    "    px = p_mag * np.sin(thetap)\n",
    "    py = 0.\n",
    "    pz = p_mag * np.cos(thetap)\n",
    "    p = np.array([px, py, pz])\n",
    "    \n",
    "    f_eq = f_dist_fast(p, beta_sw, np.zeros((3,3)))\n",
    "    f_ME = f_dist_fast(p, beta, gamma_ij)\n",
    "    f_CE = f_CE_RTA(p, e, pi_ij)\n",
    "    \n",
    "    ratio_ME = f_ME / f_eq\n",
    "    ratio_CE = f_CE / f_eq\n",
    "    \n",
    "    f_ME_ratio.append(ratio_ME)\n",
    "    f_CE_ratio.append(ratio_CE)"
   ]
  },
  {
   "cell_type": "code",
   "execution_count": 22,
   "metadata": {},
   "outputs": [
    {
     "data": {
      "image/png": "[encoded data removed]",
      "text/plain": [
       "<Figure size 432x288 with 1 Axes>"
      ]
     },
     "metadata": {},
     "output_type": "display_data"
    }
   ],
   "source": [
    "plt.plot(thetap_vals, f_ME_ratio, label=r'$f_{\\rm ME} / f_{\\rm eq}$', ls='--', lw=3)\n",
    "plt.plot(thetap_vals, f_CE_ratio, label=r'$f_{\\rm CE} / f_{\\rm eq}$', ls=':', lw=3)\n",
    "plt.xlabel(r'$\\theta_p$')\n",
    "plt.ylabel(r'$f(|p = 3T|, \\phi_p=0, \\theta_p)$')\n",
    "plt.legend(borderpad=0.2, labelspacing=0.2, handlelength=1.5)\n",
    "plt.tight_layout(True)\n",
    "plt.savefig('plots/shear_thetap_dist.png', dpi=500)\n",
    "plt.show()"
   ]
  },
  {
   "cell_type": "code",
   "execution_count": 23,
   "metadata": {},
   "outputs": [],
   "source": [
    "#plot radial\n",
    "p_vals = np.linspace(0.01, 5., 100)\n",
    "\n",
    "f_ME_ratio = []\n",
    "f_CE_ratio = []\n",
    "\n",
    "for p_mag in p_vals:\n",
    "    px = p_mag * T_sw\n",
    "    py = 0.\n",
    "    pz = 0.\n",
    "    p = np.array([px, py, pz])\n",
    "    \n",
    "    f_eq = f_dist_fast(p, beta_sw, np.zeros((3,3)))\n",
    "    f_ME = f_dist_fast(p, beta, gamma_ij)\n",
    "    f_CE = f_CE_RTA(p, e, pi_ij)\n",
    "    \n",
    "    ratio_ME = f_ME / f_eq\n",
    "    ratio_CE = f_CE / f_eq\n",
    "    \n",
    "    f_ME_ratio.append(ratio_ME)\n",
    "    f_CE_ratio.append(ratio_CE)"
   ]
  },
  {
   "cell_type": "code",
   "execution_count": 24,
   "metadata": {},
   "outputs": [
    {
     "data": {
      "image/png": "[encoded data removed]",
      "text/plain": [
       "<Figure size 432x288 with 1 Axes>"
      ]
     },
     "metadata": {},
     "output_type": "display_data"
    }
   ],
   "source": [
    "plt.plot(p_vals, f_ME_ratio, label=r'$f_{\\rm ME} / f_{\\rm eq}$', ls='--', lw=3)\n",
    "plt.plot(p_vals, f_CE_ratio, label=r'$f_{\\rm CE} / f_{\\rm eq}$', ls=':', lw=3)\n",
    "plt.xlabel(r'$p_x / T_{\\rm sw}$')\n",
    "plt.ylabel(r'$f(p_x, p_y=0, p_z=0)$')\n",
    "plt.legend(borderpad=0.2, labelspacing=0.2, handlelength=1.5)\n",
    "plt.tight_layout(True)\n",
    "plt.savefig('plots/shear_px_dist.png', dpi=500)\n",
    "plt.show()"
   ]
  },
  {
   "cell_type": "code",
   "execution_count": 25,
   "metadata": {},
   "outputs": [
    {
     "name": "stdout",
     "output_type": "stream",
     "text": [
      "guess = [2.0871690585692835, 0.28547442990995603, -0.09736531065734698]\n",
      "2.110256219205714\n",
      "[[-0.10618941  0.08217855 -0.03787645]\n",
      " [ 0.08217855  0.25803343 -0.1427132 ]\n",
      " [-0.03787645 -0.1427132  -0.15184402]]\n"
     ]
    }
   ],
   "source": [
    "#testing the method with no symmetries\n",
    "#values of epsilon and pi_ij given by Mathematica integrals \n",
    "beta, gamma_ij, info = find_lagrange_multipliers(2.09504, 0.0445643, -0.0372869, 0.0194373, -0.122494, 0.0693331)\n",
    "print(beta)\n",
    "print(gamma_ij)"
   ]
  },
  {
   "cell_type": "code",
   "execution_count": 26,
   "metadata": {},
   "outputs": [
    {
     "name": "stdout",
     "output_type": "stream",
     "text": [
      "guess = [6.666666666666667, -0.004166666666666668, -1.2500000000000002]\n",
      "guess = [6.666666666666667, -0.029591836734693882, -1.2500000000000002]\n",
      "guess = [6.666666666666667, -0.0550170068027211, -1.2500000000000002]\n",
      "guess = [6.666666666666667, -0.08044217687074832, -1.2500000000000002]\n",
      "guess = [6.666666666666667, -0.10586734693877553, -1.2500000000000002]\n",
      "guess = [6.666666666666667, -0.13129251700680275, -1.2500000000000002]\n",
      "guess = [6.666666666666667, -0.15671768707482997, -1.2500000000000002]\n",
      "guess = [6.666666666666667, -0.18214285714285716, -1.2500000000000002]\n",
      "guess = [6.666666666666667, -0.20756802721088438, -1.2500000000000002]\n",
      "guess = [6.666666666666667, -0.23299319727891163, -1.2500000000000002]\n",
      "guess = [6.666666666666667, -0.2584183673469388, -1.2500000000000002]\n",
      "guess = [6.666666666666667, -0.283843537414966, -1.2500000000000002]\n",
      "guess = [6.666666666666667, -0.30926870748299323, -1.2500000000000002]\n",
      "guess = [6.666666666666667, -0.3346938775510205, -1.2500000000000002]\n",
      "guess = [6.666666666666667, -0.36011904761904767, -1.2500000000000002]\n",
      "guess = [6.666666666666667, -0.38554421768707486, -1.2500000000000002]\n",
      "guess = [6.666666666666667, -0.41096938775510206, -1.2500000000000002]\n",
      "guess = [6.666666666666667, -0.43639455782312936, -1.2500000000000002]\n",
      "guess = [6.666666666666667, -0.46181972789115655, -1.2500000000000002]\n",
      "guess = [6.666666666666667, -0.4872448979591837, -1.2500000000000002]\n",
      "guess = [6.666666666666667, -0.5126700680272109, -1.2500000000000002]\n",
      "guess = [6.666666666666667, -0.5380952380952382, -1.2500000000000002]\n",
      "guess = [6.666666666666667, -0.5635204081632654, -1.2500000000000002]\n",
      "guess = [6.666666666666667, -0.5889455782312926, -1.2500000000000002]\n",
      "guess = [6.666666666666667, -0.6143707482993198, -1.2500000000000002]\n",
      "guess = [6.666666666666667, -0.6397959183673471, -1.2500000000000002]\n",
      "guess = [6.666666666666667, -0.6652210884353743, -1.2500000000000002]\n",
      "guess = [6.666666666666667, -0.6906462585034013, -1.2500000000000002]\n",
      "guess = [6.666666666666667, -0.7160714285714287, -1.2500000000000002]\n",
      "guess = [6.666666666666667, -0.7414965986394559, -1.2500000000000002]\n",
      "guess = [6.666666666666667, -0.7669217687074831, -1.2500000000000002]\n",
      "guess = [6.666666666666667, -0.7923469387755103, -1.2500000000000002]\n",
      "guess = [6.666666666666667, -0.8177721088435376, -1.2500000000000002]\n",
      "guess = [6.666666666666667, -0.8431972789115647, -1.2500000000000002]\n",
      "guess = [6.666666666666667, -0.868622448979592, -1.2500000000000002]\n",
      "guess = [6.666666666666667, -0.8940476190476192, -1.2500000000000002]\n",
      "guess = [6.666666666666667, -0.9194727891156464, -1.2500000000000002]\n",
      "guess = [6.666666666666667, -0.9448979591836737, -1.2500000000000002]\n",
      "guess = [6.666666666666667, -0.9703231292517007, -1.2500000000000002]\n",
      "guess = [6.666666666666667, -0.995748299319728, -1.2500000000000002]\n",
      "guess = [6.666666666666667, -1.0211734693877552, -1.2500000000000002]\n",
      "guess = [6.666666666666667, -1.0465986394557825, -1.2500000000000002]\n",
      "guess = [6.666666666666667, -1.0720238095238097, -1.2500000000000002]\n",
      "guess = [6.666666666666667, -1.097448979591837, -1.2500000000000002]\n",
      "guess = [6.666666666666667, -1.122874149659864, -1.2500000000000002]\n",
      "guess = [6.666666666666667, -1.1482993197278912, -1.2500000000000002]\n",
      "guess = [6.666666666666667, -1.1737244897959185, -1.2500000000000002]\n",
      "guess = [6.666666666666667, -1.1991496598639457, -1.2500000000000002]\n",
      "guess = [6.666666666666667, -1.224574829931973, -1.2500000000000002]\n",
      "guess = [6.666666666666667, -1.2500000000000002, -1.2500000000000002]\n"
     ]
    }
   ],
   "source": [
    "R_pi_grid = np.linspace(0.001, 0.3, 50)\n",
    "g1_vals_1 = []\n",
    "g1_CE_vals = []\n",
    "pi_2 = 0.3 * p_eq\n",
    "\n",
    "beta_CE = equil_beta(e)\n",
    "beta_pi_CE = beta_pi(e)\n",
    "CE_fac = -beta_CE / (2. * beta_pi_CE)\n",
    "\n",
    "for R_pi in R_pi_grid:\n",
    "    pi_1 = R_pi * p_eq\n",
    "    beta_soln, g1_soln, g2_soln, info = root_solve_beta_gamma(e, pi_1, pi_2)\n",
    "    g1_vals_1.append(g1_soln)\n",
    "    g1_CE = CE_fac * pi_1 \n",
    "    g1_CE_vals.append(g1_CE)"
   ]
  },
  {
   "cell_type": "code",
   "execution_count": 29,
   "metadata": {},
   "outputs": [
    {
     "name": "stdout",
     "output_type": "stream",
     "text": [
      "guess = [6.666666666666667, -0.004166666666666668, -0.000621043679084525]\n",
      "guess = [6.666666666666667, -0.029591836734693882, -0.000621043679084525]\n",
      "guess = [6.666666666666667, -0.0550170068027211, -0.000621043679084525]\n",
      "guess = [6.666666666666667, -0.08044217687074832, -0.000621043679084525]\n",
      "guess = [6.666666666666667, -0.10586734693877553, -0.000621043679084525]\n",
      "guess = [6.666666666666667, -0.13129251700680275, -0.000621043679084525]\n",
      "guess = [6.666666666666667, -0.15671768707482997, -0.000621043679084525]\n",
      "guess = [6.666666666666667, -0.18214285714285716, -0.000621043679084525]\n",
      "guess = [6.666666666666667, -0.20756802721088438, -0.000621043679084525]\n",
      "guess = [6.666666666666667, -0.23299319727891163, -0.000621043679084525]\n",
      "guess = [6.666666666666667, -0.2584183673469388, -0.000621043679084525]\n",
      "guess = [6.666666666666667, -0.283843537414966, -0.000621043679084525]\n",
      "guess = [6.666666666666667, -0.30926870748299323, -0.000621043679084525]\n",
      "guess = [6.666666666666667, -0.3346938775510205, -0.000621043679084525]\n",
      "guess = [6.666666666666667, -0.36011904761904767, -0.000621043679084525]\n",
      "guess = [6.666666666666667, -0.38554421768707486, -0.000621043679084525]\n",
      "guess = [6.666666666666667, -0.41096938775510206, -0.000621043679084525]\n",
      "guess = [6.666666666666667, -0.43639455782312936, -0.000621043679084525]\n",
      "guess = [6.666666666666667, -0.46181972789115655, -0.000621043679084525]\n",
      "guess = [6.666666666666667, -0.4872448979591837, -0.000621043679084525]\n",
      "guess = [6.666666666666667, -0.5126700680272109, -0.000621043679084525]\n",
      "guess = [6.666666666666667, -0.5380952380952382, -0.000621043679084525]\n",
      "guess = [6.666666666666667, -0.5635204081632654, -0.000621043679084525]\n",
      "guess = [6.666666666666667, -0.5889455782312926, -0.000621043679084525]\n",
      "guess = [6.666666666666667, -0.6143707482993198, -0.000621043679084525]\n",
      "guess = [6.666666666666667, -0.6397959183673471, -0.000621043679084525]\n",
      "guess = [6.666666666666667, -0.6652210884353743, -0.000621043679084525]\n",
      "guess = [6.666666666666667, -0.6906462585034013, -0.000621043679084525]\n",
      "guess = [6.666666666666667, -0.7160714285714287, -0.000621043679084525]\n",
      "guess = [6.666666666666667, -0.7414965986394559, -0.000621043679084525]\n",
      "guess = [6.666666666666667, -0.7669217687074831, -0.000621043679084525]\n",
      "guess = [6.666666666666667, -0.7923469387755103, -0.000621043679084525]\n",
      "guess = [6.666666666666667, -0.8177721088435376, -0.000621043679084525]\n",
      "guess = [6.666666666666667, -0.8431972789115647, -0.000621043679084525]\n",
      "guess = [6.666666666666667, -0.868622448979592, -0.000621043679084525]\n",
      "guess = [6.666666666666667, -0.8940476190476192, -0.000621043679084525]\n",
      "guess = [6.666666666666667, -0.9194727891156464, -0.000621043679084525]\n",
      "guess = [6.666666666666667, -0.9448979591836737, -0.000621043679084525]\n",
      "guess = [6.666666666666667, -0.9703231292517007, -0.000621043679084525]\n",
      "guess = [6.666666666666667, -0.995748299319728, -0.000621043679084525]\n",
      "guess = [6.666666666666667, -1.0211734693877552, -0.000621043679084525]\n",
      "guess = [6.666666666666667, -1.0465986394557825, -0.000621043679084525]\n",
      "guess = [6.666666666666667, -1.0720238095238097, -0.000621043679084525]\n",
      "guess = [6.666666666666667, -1.097448979591837, -0.000621043679084525]\n",
      "guess = [6.666666666666667, -1.122874149659864, -0.000621043679084525]\n",
      "guess = [6.666666666666667, -1.1482993197278912, -0.000621043679084525]\n",
      "guess = [6.666666666666667, -1.1737244897959185, -0.000621043679084525]\n",
      "guess = [6.666666666666667, -1.1991496598639457, -0.000621043679084525]\n",
      "guess = [6.666666666666667, -1.224574829931973, -0.000621043679084525]\n",
      "guess = [6.666666666666667, -1.2500000000000002, -0.000621043679084525]\n"
     ]
    }
   ],
   "source": [
    "g1_vals_2 = []\n",
    "pi_2 = 0.000001\n",
    "\n",
    "beta_CE = equil_beta(e)\n",
    "beta_pi_CE = beta_pi(e)\n",
    "CE_fac = -beta_CE / (2. * beta_pi_CE)\n",
    "\n",
    "for R_pi in R_pi_grid:\n",
    "    pi_1 = R_pi * p_eq\n",
    "    beta_soln, g1_soln, g2_soln, info = root_solve_beta_gamma(e, pi_1, pi_2)\n",
    "    g1_vals_2.append(g1_soln)\n",
    "    #g1_CE = CE_fac * pi_1 \n",
    "    #g1_CE_vals.append(g1_CE)"
   ]
  },
  {
   "cell_type": "code",
   "execution_count": 45,
   "metadata": {},
   "outputs": [
    {
     "data": {
      "image/png": "[encoded data removed]",
      "text/plain": [
       "<Figure size 432x288 with 1 Axes>"
      ]
     },
     "metadata": {},
     "output_type": "display_data"
    }
   ],
   "source": [
    "g1_vals_1 = np.array(g1_vals_1)\n",
    "g1_vals_2 = np.array(g1_vals_2)\n",
    "g1_CE_vals = np.array(g1_CE_vals)\n",
    "\n",
    "plt.plot(R_pi_grid, g1_vals_2 / beta_CE, label=r'$\\gamma_1/\\beta$ ($\\pi_2=0$)', ls='--', lw=3, c='b')\n",
    "plt.plot(R_pi_grid, g1_vals_1 / beta_CE, label=r'$\\gamma_1/\\beta$ ($\\pi_2=0.3 p_{\\rm eq}$)', ls='--', lw=3, c='g')\n",
    "plt.plot(R_pi_grid, g1_CE_vals / beta_CE, label=r'$\\pi_1/(2\\beta_\\pi)$', ls=':', lw=3, c='orange')\n",
    "plt.xlabel(r'$\\pi_1/p_{\\rm eq}$')\n",
    "plt.legend(borderpad=0.2, labelspacing=0.2, handlelength=1.5)\n",
    "plt.tight_layout(True)\n",
    "plt.savefig('plots/gamma1_pi1_pi2.png', dpi=500)\n",
    "plt.show()"
   ]
  },
  {
   "cell_type": "code",
   "execution_count": null,
   "metadata": {},
   "outputs": [],
   "source": []
  }
 ],
 "metadata": {
  "kernelspec": {
   "display_name": "Python 3",
   "language": "python",
   "name": "python3"
  },
  "language_info": {
   "codemirror_mode": {
    "name": "ipython",
    "version": 3
   },
   "file_extension": ".py",
   "mimetype": "text/x-python",
   "name": "python",
   "nbconvert_exporter": "python",
   "pygments_lexer": "ipython3",
   "version": "3.6.8"
  }
 },
 "nbformat": 4,
 "nbformat_minor": 2
}
