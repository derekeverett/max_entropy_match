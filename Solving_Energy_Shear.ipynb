{
 "cells": [
  {
   "cell_type": "markdown",
   "metadata": {},
   "source": [
    "# Maximum Entropy Matching Distribution Function\n",
    "\n",
    "This notebook can construct the distribution function which maximizes the kinetic entropy subject to the constraints of matching the energy density $\\epsilon$ and the shear stress $\\pi^{\\mu\\nu}$.\n",
    "\n",
    "The entropy density current is expressed\n",
    "\n",
    "$$s^{\\mu}(x) = - \\sum_h \\frac{g_h}{(2\\pi)^3}\\int \\frac{d^3p}{p_0} p^{\\mu} \\phi[f_h],$$\n",
    "\n",
    "where $h$ runs over all hadronic species, $g_h$ is the degeneracy of species $h$, and $f_h(x;p)$ is the distribution function of particles of species $h$.\n",
    "\n",
    "The function $\\phi[f_h]$ defined by\n",
    "\n",
    "$$ \\phi[f] \\equiv f \\ln (f) - \\frac{1 + \\theta f}{\\theta} \\ln(1 + \\theta f)$$\n",
    "\n",
    "defines the quantum statistical nature of the particles, with $\\theta = 1$, $0$ or $-1$ for bosons, Maxwell-Boltzmann particles, and fermions respectively."
   ]
  },
  {
   "cell_type": "code",
   "execution_count": 1,
   "metadata": {},
   "outputs": [],
   "source": [
    "%load_ext Cython\n",
    "from scipy import integrate\n",
    "from scipy import interpolate\n",
    "from scipy.interpolate import RectBivariateSpline\n",
    "from scipy import optimize\n",
    "from numpy import linalg as LA\n",
    "from mpmath import *\n",
    "import matplotlib.pyplot as plt\n",
    "import seaborn as sns\n",
    "import numpy as np\n",
    "import dill\n",
    "import pandas as pd\n",
    "import time\n",
    "sns.set()\n",
    "sns.set_style('whitegrid')\n",
    "sns.set_context('talk')"
   ]
  },
  {
   "cell_type": "code",
   "execution_count": 2,
   "metadata": {},
   "outputs": [],
   "source": [
    "#These triple series expressions for epsilon, pi_1 and pi_2 \n",
    "#are still a little slow for phenomenology\n",
    "#alternatively, the integral expression for the generating \n",
    "#function could be used\n",
    "\n",
    "hbar = 0.197\n",
    "#hbar = 1. #temporary\n",
    "\n",
    "#sum_max = 10\n",
    "sum_max = 10\n",
    "\n",
    "method_sum='alternating'\n",
    "#method_sum='shanks'\n",
    "#method_sum='direct'\n",
    "\n",
    "gamma = memoize(gamma) #speed up mpmath\n",
    "\n",
    "#the angular function\n",
    "def angular(nx, ny, nz):\n",
    "    ns = nx+ny+nz\n",
    "    a = (1+(-1)**(2*nx))*(1+(-1)**(2*ny))*(1+(-1)**(2*nz))/4.\n",
    "    b = gamma((1.+ (2.*nx))/2.) * gamma((1.+ (2.*ny))/2.) * gamma((1.+ (2.*nz))/2.) / gamma((3.+(2.*ns))/2.)\n",
    "    return mpmathify(a*b)\n",
    "\n",
    "angular = memoize(angular) #speed up mpmath\n",
    "\n",
    "def sum_e_fct(beta, g1, g2):\n",
    "    beta = mpmathify(beta)\n",
    "    g1 = mpmathify(g1)\n",
    "    g2 = mpmathify(g2)\n",
    "    g3 = -(g1+g2)\n",
    "    def e_fct(nx, ny, nz):\n",
    "        nx = mpmathify(nx)\n",
    "        ny = mpmathify(ny)\n",
    "        nz = mpmathify(nz)\n",
    "            \n",
    "        ns = nx + ny + nz\n",
    "        a = angular(nx, ny, nz) * gamma(3+ns) / (fac(nx)*fac(ny)*fac(nz))\n",
    "        b = ((-g1/beta)**nx) * ((-g2/beta)**ny) * ((-g3/beta)**nz)\n",
    "        c = (3+ns)\n",
    "        pre_fac = 1./ ((2.*np.pi*hbar)**3.) / (beta ** 4.)\n",
    "        pre_fac = mpmathify(pre_fac)\n",
    "        return pre_fac*a*b*c\n",
    "    return float(nsum( e_fct, [0, sum_max], [0, sum_max], [0, sum_max], method=method_sum ))\n",
    "        \n",
    "def sum_pi_1_fct(beta, g1, g2):\n",
    "    beta = mpmathify(beta)\n",
    "    g1 = mpmathify(g1)\n",
    "    g2 = mpmathify(g2)\n",
    "    g3 = -(g1+g2)\n",
    "    def pi_1_fct(nx, ny, nz):\n",
    "        nx = mpmathify(nx)\n",
    "        ny = mpmathify(ny)\n",
    "        nz = mpmathify(nz)\n",
    "            \n",
    "        ns = nx + ny + nz\n",
    "        a = (-1)**(ns) * angular(nx, ny, nz) * gamma(3+ns) / (fac(nx) * fac(ny) * fac(nz))\n",
    "        b = ((g1/beta)**nx) * ((g2/beta)**ny) * ((g3/beta)**nz)\n",
    "        c = ( (3.+ns)/3. + (nx*beta/g1) )\n",
    "        pre_fac = -1./ ((2.*np.pi*hbar)**3.) / (beta ** 4.)\n",
    "        pre_fac = mpmathify(pre_fac)\n",
    "        return pre_fac*a*b*c \n",
    "    return float(nsum( pi_1_fct, [0, sum_max], [0, sum_max], [0, sum_max], method=method_sum ))\n",
    "\n",
    "def sum_pi_2_fct(beta, g1, g2):\n",
    "    beta = mpmathify(beta)\n",
    "    g1 = mpmathify(g1)\n",
    "    g2 = mpmathify(g2)\n",
    "    g3 = -(g1+g2)\n",
    "    def pi_2_fct(nx, ny, nz):\n",
    "        nx = mpmathify(nx)\n",
    "        ny = mpmathify(ny)\n",
    "        nz = mpmathify(nz)\n",
    "            \n",
    "        ns = nx + ny + nz\n",
    "        a = (-1)**(ns) * angular(nx, ny, nz) * gamma(3+ns) / (fac(nx) * fac(ny) * fac(nz))\n",
    "        b = ((g1/beta)**nx) * ((g2/beta)**ny) * ((g3/beta)**nz)\n",
    "        c = ( (3.+ns)/3. + (ny*beta/g2) )\n",
    "        pre_fac = -1./ ((2.*np.pi*hbar)**3.) / (beta ** 4.)\n",
    "        pre_fac = mpmathify(pre_fac)\n",
    "        return pre_fac*a*b*c \n",
    "    return float(nsum( pi_2_fct, [0, sum_max], [0, sum_max], [0, sum_max], method=method_sum ))"
   ]
  },
  {
   "cell_type": "code",
   "execution_count": 3,
   "metadata": {},
   "outputs": [],
   "source": [
    "#method_root='anderson'\n",
    "\n",
    "#this root solving routine is still slow,\n",
    "#but can probably be sped up with a c backend \n",
    "#and some algebraic re-arranging of the various terms\n",
    "#Sage has a cython mpmath backend (https://www.sagemath.org)\n",
    "\n",
    "def root_solve_beta_gamma(e0, pi_1, pi_2, guess, tol=1e-4, maxiter = int(1e5)):    \n",
    "    \n",
    "    def my_fun(x):\n",
    "        beta = x[0]\n",
    "        g1 = x[1]\n",
    "        g2 = x[2]\n",
    "        \n",
    "        t1 = time.time()\n",
    "        e_val = sum_e_fct(beta, g1, g2)\n",
    "        t2 = time.time()\n",
    "        #print(\"e sum evaluation: \"+str(t2-t1)+\" sec\")\n",
    "        t1 = time.time()\n",
    "        pi_1_val = sum_pi_1_fct(beta, g1, g2)\n",
    "        t2 = time.time()\n",
    "        #print(\"pi_1 sum evaluation: \"+str(t2-t1)+\" sec\")\n",
    "        pi_2_val = sum_pi_2_fct(beta, g1, g2)\n",
    "        #print(\"beta : \"+str(beta)+\", g1 : \"+str(g1)+\", g2 : \"+str(g2))\n",
    "        #print(\"e : \"+str(e_val)+\", pi_1 : \"+str(pi_1_val)+\", pi_2 : \"+str(pi_2_val))\n",
    "        return [e_val - e0, pi_1_val - pi_1, pi_2_val - pi_2]\n",
    "    \n",
    "    def print_warning(e0, pi_1, pi_2):\n",
    "        print(\"WARNING - NO ROOT FOUND: e0 = \" + str(e0) + \" ; pi_1 = \" + str(pi_1))\n",
    "    \n",
    "    solution = optimize.root(my_fun, guess, tol=tol)\n",
    "    #solution = optimize.root(my_fun, guess, method=method_root, tol=tol, options={'maxiter':maxiter})\n",
    "    \n",
    "    if (solution.success == False):\n",
    "        print_warning(e0, pi_1, pi_2)\n",
    "        \n",
    "    beta_soln = solution.x[0]\n",
    "    g1_soln = solution.x[1]\n",
    "    g2_soln = solution.x[2]\n",
    "    \n",
    "    return beta_soln, g1_soln, g2_soln, solution"
   ]
  },
  {
   "cell_type": "code",
   "execution_count": 4,
   "metadata": {},
   "outputs": [
    {
     "name": "stdout",
     "output_type": "stream",
     "text": [
      "e = 49.77232274243643 ?=? 49.772\n",
      "pi_1 = -4.035753999037346 ?=? -4.035\n",
      "pi_2 = -5.5907058966960825 ?=? -5.5907\n",
      "e sum eval'd in 0.3910179138183594 sec\n",
      "pi_1 sum eval'd in 0.21982789039611816 sec\n"
     ]
    }
   ],
   "source": [
    "#Checks that the functions are working correctly\n",
    "t1 = time.time()\n",
    "e = sum_e_fct(beta=1., g1=0.1, g2=0.2)\n",
    "t2 = time.time()\n",
    "pi_1 = sum_pi_1_fct(beta=1., g1=0.1, g2=0.2)\n",
    "t3 = time.time()\n",
    "pi_2 = sum_pi_2_fct(beta=1., g1=0.1, g2=0.2)\n",
    "print(\"e = \" + str(e) + \" ?=? 49.772\")\n",
    "print(\"pi_1 = \" + str(pi_1) + \" ?=? -4.035\")\n",
    "print(\"pi_2 = \" + str(pi_2) + \" ?=? -5.5907\")\n",
    "print(\"e sum eval'd in \" + str(t2-t1) + \" sec\")\n",
    "print(\"pi_1 sum eval'd in \" + str(t3-t2) + \" sec\")"
   ]
  },
  {
   "cell_type": "code",
   "execution_count": 5,
   "metadata": {},
   "outputs": [
    {
     "data": {
      "text/plain": [
       "(1.0000000000073683,\n",
       " 0.10000000003333051,\n",
       " 0.19999999996688783,\n",
       "     fjac: array([[-9.82519014e-01,  5.17628790e-02,  1.78821116e-01],\n",
       "        [-5.24995834e-02, -9.98620758e-01,  6.13162981e-04],\n",
       "        [-1.78606218e-01,  8.78558983e-03, -9.83881412e-01]])\n",
       "      fun: array([-1.88182980e-09, -3.65245612e-10,  7.34086569e-10])\n",
       "  message: 'The solution converged.'\n",
       "     nfev: 28\n",
       "      qtf: array([-1.19752542e-06, -2.83163770e-07,  2.37646739e-07])\n",
       "        r: array([274.91524267, -60.80136053, -59.15909492,  35.7358067 ,\n",
       "         21.9813921 ,  11.73905269])\n",
       "   status: 1\n",
       "  success: True\n",
       "        x: array([1. , 0.1, 0.2]))"
      ]
     },
     "execution_count": 5,
     "metadata": {},
     "output_type": "execute_result"
    }
   ],
   "source": [
    "#Check the root solving method\n",
    "guess = [0.5, -0.1, -0.1]\n",
    "root_solve_beta_gamma(e, pi_1, pi_2, guess, tol=1e-7, maxiter = int(1e5))"
   ]
  },
  {
   "cell_type": "code",
   "execution_count": 6,
   "metadata": {},
   "outputs": [],
   "source": [
    "def find_shear_eig(pi_ij):\n",
    "    \"\"\"pi_ij should be the shear stress tensor in the LRF\"\"\"\n",
    "    w, v = LA.eig(pi_ij)\n",
    "    return w, v"
   ]
  },
  {
   "cell_type": "code",
   "execution_count": 8,
   "metadata": {},
   "outputs": [],
   "source": [
    "#this function solves for all the lagrange multipliers\n",
    "#and returns them\n",
    "def find_lagrange_multipliers(e, pi_xx, pi_xy, pi_xz, pi_yy, pi_yz):\n",
    "\n",
    "    pi_zz = -(pi_xx + pi_yy) #traceless\n",
    "\n",
    "    #symmetric matrix\n",
    "    pi_ij = np.array( [[pi_xx, pi_xy, pi_xz],[pi_xy, pi_yy, pi_yz],[pi_xz, pi_yz, pi_zz]] )\n",
    "\n",
    "    w, v = find_shear_eig(pi_ij) #w are eig vals, v is matrix of eig vectors\n",
    "\n",
    "    pi_1, pi_2 = w[0], w[1] #first two eig vals\n",
    "\n",
    "    #now root solve to find lagrange multipliers\n",
    "    beta_soln, g1_soln, g2_soln, info = root_solve_beta_gamma(e, pi_1, pi_2, guess, tol=1e-7, maxiter = int(1e5))\n",
    "\n",
    "    g3_soln = -(g1_soln + g2_soln)\n",
    "    #construct the diagonal gamma matrix\n",
    "    gamma_ij_D = np.array( [[g1_soln, 0., 0.],[0., g2_soln, 0.],[0., 0., g3_soln]] )\n",
    "    #now rotate gamma out of the eigenvector basis\n",
    "    gamma_ij = (v.T)@(gamma_ij_D)@(v)\n",
    "    \n",
    "    return beta_soln, gamma_ij, info"
   ]
  },
  {
   "cell_type": "code",
   "execution_count": 9,
   "metadata": {},
   "outputs": [
    {
     "data": {
      "text/plain": [
       "(1.0645309313584952, array([[-0.23584837, -0.06160451,  0.07566025],\n",
       "        [-0.06160451,  0.11263935, -0.44098026],\n",
       "        [ 0.07566025, -0.44098026,  0.12320901]]),     fjac: array([[-0.97192801,  0.20402912, -0.11716679],\n",
       "        [ 0.08211396,  0.76083516,  0.64372911],\n",
       "        [-0.22048409, -0.61603732,  0.75623064]])\n",
       "      fun: array([-1.36609017e-08,  8.00658206e-09,  2.75050205e-10])\n",
       "  message: 'The solution converged.'\n",
       "     nfev: 30\n",
       "      qtf: array([-1.33188422e-06, -3.65215530e-07, -4.05585651e-08])\n",
       "        r: array([245.04663241, -77.16802481,  34.98087539, -29.02032542,\n",
       "        -31.14533073, -27.81755229])\n",
       "   status: 1\n",
       "  success: True\n",
       "        x: array([ 1.06453093,  0.57063282, -0.32421479]))"
      ]
     },
     "execution_count": 9,
     "metadata": {},
     "output_type": "execute_result"
    }
   ],
   "source": [
    "e = 50.\n",
    "pi_xx = 5.\n",
    "pi_yy = 5.\n",
    "pi_xy = 1.\n",
    "pi_xz = 2.\n",
    "pi_yz = 2.\n",
    "\n",
    "find_lagrange_multipliers(e, pi_xx, pi_xy, pi_xz, pi_yy, pi_yz)"
   ]
  },
  {
   "cell_type": "code",
   "execution_count": null,
   "metadata": {},
   "outputs": [],
   "source": []
  }
 ],
 "metadata": {
  "kernelspec": {
   "display_name": "Python 3",
   "language": "python",
   "name": "python3"
  },
  "language_info": {
   "codemirror_mode": {
    "name": "ipython",
    "version": 3
   },
   "file_extension": ".py",
   "mimetype": "text/x-python",
   "name": "python",
   "nbconvert_exporter": "python",
   "pygments_lexer": "ipython3",
   "version": "3.6.8"
  }
 },
 "nbformat": 4,
 "nbformat_minor": 2
}
