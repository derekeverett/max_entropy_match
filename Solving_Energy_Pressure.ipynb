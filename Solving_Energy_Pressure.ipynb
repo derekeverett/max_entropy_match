{
 "cells": [
  {
   "cell_type": "markdown",
   "metadata": {},
   "source": [
    "# Maximum Entropy Matching Distribution Function\n",
    "\n",
    "This notebook can construct the distribution function which maximizes the kinetic entropy subject to the constraints of matching the energy density $\\epsilon$ and the total isotropic pressure $P \\equiv p + \\Pi$.\n",
    "\n",
    "The entropy density current is expressed\n",
    "\n",
    "$$s^{\\mu}(x) = - \\sum_h \\frac{g_h}{(2\\pi)^3}\\int \\frac{d^3p}{p_0} p^{\\mu} \\phi[f_h],$$\n",
    "\n",
    "where $h$ runs over all hadronic species, $g_h$ is the degeneracy of species $h$, and $f_h(x;p)$ is the distribution function of particles of species $h$.\n",
    "\n",
    "The function $\\phi[f_h]$ defined by\n",
    "\n",
    "$$ \\phi[f] \\equiv f \\ln (f) - \\frac{1 + \\theta f}{\\theta} \\ln(1 + \\theta f)$$\n",
    "\n",
    "defines the quantum statistical nature of the particles, with $\\theta = 1$, $0$ or $-1$ for bosons, Maxwell-Boltzmann particles, and fermions respectively."
   ]
  },
  {
   "cell_type": "code",
   "execution_count": 1,
   "metadata": {},
   "outputs": [],
   "source": [
    "%load_ext Cython\n",
    "from scipy import integrate\n",
    "from scipy import interpolate\n",
    "from scipy.interpolate import RectBivariateSpline\n",
    "from scipy import optimize\n",
    "import matplotlib.pyplot as plt\n",
    "import seaborn as sns\n",
    "import numpy as np\n",
    "import dill\n",
    "import pandas as pd\n",
    "sns.set()\n",
    "sns.set_context('talk')"
   ]
  },
  {
   "cell_type": "markdown",
   "metadata": {},
   "source": [
    "## The cell below constructs the grid of energy density and pressure\n",
    "It takes a while to run. Unless we need to change the particle/grid options, we can just load the grid from disk.\n",
    "If you want to change the grid limits, discretization, or change the Hadron Resonances Gas, it needs to be rerun.\n",
    "To do this, set `recalculate_grids = True`.\n",
    "\n",
    "The particle information is loaded from the PDG particle data table using functions defined here: https://github.com/Duke-QCD/frzout."
   ]
  },
  {
   "cell_type": "code",
   "execution_count": 2,
   "metadata": {},
   "outputs": [],
   "source": [
    "%%cython \n",
    "import numpy as np\n",
    "cimport numpy as np\n",
    "from scipy import integrate\n",
    "import time\n",
    "from libc.math cimport exp\n",
    "from libc.math cimport sqrt\n",
    "\n",
    "DTYPE = np.float\n",
    "ctypedef np.float_t DTYPE_t\n",
    "\n",
    "### physical constants\n",
    "cpdef float hbar = 0.197\n",
    "cpdef float hbar3 = hbar*hbar*hbar\n",
    "\n",
    "from species import species_dict, _normalize_species, urqmd\n",
    "species = _normalize_species(species=urqmd)\n",
    "for pid in species:\n",
    "    pid[1]['sign'] = 1. if pid[1]['boson'] else -1.\n",
    "n_species = len(species)\n",
    "\n",
    "############################\n",
    "########USER OPTIONS########\n",
    "#particles included in thermodynamic quantities\n",
    "chosen_particles = species_dict.keys()\n",
    "\n",
    "#Grid parameters\n",
    "cdef int npts_beta = 200 #size of grid in beta \n",
    "cdef int npts_rho = 200 #size of grid in rho \n",
    "\n",
    "cdef float T_eff_max = 0.20 #GeV\n",
    "cdef float T_eff_min = 0.05 #GeV\n",
    "\n",
    "#|lambda| <= |beta|\n",
    "#so define rho by lambda = rho * beta, with rho in [-1, 1]\n",
    "cdef float rho_min = -0.9\n",
    "cdef float rho_max = 0.9\n",
    "############################\n",
    "########USER OPTIONS########\n",
    "\n",
    "cdef float beta_min = 1. / T_eff_max #GeV^-1\n",
    "cdef float beta_max = 1. / T_eff_min #GeV^-1\n",
    "beta_grid = np.linspace(beta_min, beta_max, npts_beta)\n",
    "\n",
    "rho_grid = np.linspace(rho_min, rho_max, npts_rho)\n",
    "\n",
    "# The Max. Entropy Distribution Function\n",
    "cpdef float f_dist(float E, float beta, float rho, float m, float sign):\n",
    "    cdef float E2, m2, lambdapi, arg\n",
    "    E2 = E*E\n",
    "    m2 = m*m\n",
    "    lambdapi = rho*beta\n",
    "    arg = E * ( beta + lambdapi*(1. - m2/E2) )\n",
    "    return 1./(exp(arg) - sign)\n",
    "\n",
    "# The Equil. Distribution Function\n",
    "cpdef float f_eq(float E, float beta_eq, float sign):\n",
    "    cdef float arg\n",
    "    arg = beta_eq * E\n",
    "    return 1./(exp(arg) - sign)\n",
    "\n",
    "# The Linear CE RTA distribution\n",
    "cpdef float f_CE_lin(float E, float beta_eq, float bulk_Pi, \n",
    "                     float beta_Pi, float F, float m, float sign):\n",
    "    cdef float E2, m2, f0, f_fbar, a, b, df, f\n",
    "    E2 = E*E\n",
    "    m2 = m*m\n",
    "    f0 = f_eq(E, beta_eq, sign)\n",
    "    f_fbar = f0 * (1. + sign*f0)\n",
    "    a = beta_eq * beta_eq * F * E\n",
    "    b = beta_eq * (E2 - m2) / 3. / E\n",
    "    df = f_fbar * bulk_Pi * (a + b) / beta_Pi\n",
    "    f = f0 + df\n",
    "    #print(str(f0) + \" + \" + str(df))\n",
    "    return f\n",
    "    \n",
    "cpdef float eps_integrand(float E, float beta, float rho, float m, float sign):\n",
    "    cdef float E2, m2, num_factor\n",
    "    E2 = E*E\n",
    "    m2 = m*m\n",
    "    num_factor = (4 * np.pi) / (2. * np.pi)**3. / hbar3\n",
    "    return num_factor * E2 * sqrt(E2 - m2) * f_dist(E, beta, rho, m, sign)\n",
    "    \n",
    "cpdef float eps(float beta, float rho, float m, float sign):\n",
    "    cdef float val, err\n",
    "    val, err = integrate.quad(eps_integrand, m, np.inf, args=(beta, rho, m, sign))\n",
    "    return val\n",
    "\n",
    "cpdef float P_integrand(float E, float beta, float rho, float m, float sign):\n",
    "    cdef float E2, m2, num_factor\n",
    "    E2 = E*E\n",
    "    m2 = m*m\n",
    "    num_factor = (4 * np.pi) / (2. * np.pi)**3. / hbar3 / 3.\n",
    "    return num_factor * (E2 - m2)**(1.5) * f_dist(E, beta, rho, m, sign)\n",
    "    \n",
    "cpdef float P(float beta, float rho, float m, float sign):\n",
    "    cdef float val, err\n",
    "    val, err = integrate.quad(P_integrand, m, np.inf, args=(beta, rho, m, sign))\n",
    "    return val\n",
    "\n",
    "#check this formula for density\n",
    "cpdef float n_integrand(float E, float beta, float rho, float m, float sign):\n",
    "    cdef float E2, m2, num_factor\n",
    "    E2 = E*E\n",
    "    m2 = m*m\n",
    "    num_factor = (4 * np.pi) / (2. * np.pi)**3. / hbar3\n",
    "    return num_factor * E * sqrt(E2 - m2) * f_dist(E, beta, rho, m, sign)\n",
    "\n",
    "cpdef float n(float beta, float rho, float m, float sign):\n",
    "    cdef float val, err\n",
    "    val, err = integrate.quad(n_integrand, m, np.inf, args=(beta, rho, m, sign))\n",
    "    return val\n",
    "\n",
    "#check this formula for density for linear CE\n",
    "cpdef float n_integrand_CE(float E, float beta_eq, float bulk_Pi, \n",
    "                            float beta_Pi, float F, float m, float sign):\n",
    "    cdef float E2, m2, num_factor\n",
    "    E2 = E*E\n",
    "    m2 = m*m\n",
    "    num_factor = (4 * np.pi) / (2. * np.pi)**3. / hbar3\n",
    "    return num_factor * E * sqrt(E2 - m2) * f_CE_lin(E, beta_eq, bulk_Pi, \n",
    "                                                     beta_Pi, F, m, sign)\n",
    "\n",
    "cpdef float n_CE(float beta_eq, float bulk_Pi, float beta_Pi, float F, \n",
    "                 float m, float sign):\n",
    "    cdef float val, err\n",
    "    val, err = integrate.quad(n_integrand_CE, m, np.inf, args=(beta_eq, bulk_Pi, \n",
    "                            beta_Pi, F, m, sign))\n",
    "    return val\n",
    "\n",
    "#Calculate the grid\n",
    "recalculate_grids = False\n",
    "\n",
    "cdef np.ndarray eps_grid = np.zeros((npts_beta, npts_rho), dtype=DTYPE)\n",
    "cdef np.ndarray P_grid = np.zeros((npts_beta, npts_rho), dtype=DTYPE)\n",
    "cdef np.ndarray eq_eps_grid = np.zeros(npts_beta, dtype=DTYPE)\n",
    "cdef np.ndarray eq_p_grid = np.zeros(npts_beta, dtype=DTYPE)\n",
    "\n",
    "cdef float m, sign, degen, has_anti\n",
    "cdef float beta, rho\n",
    "cdef int ibeta, irho\n",
    "\n",
    "t1 = time.time()\n",
    "if recalculate_grids:\n",
    "                \n",
    "    for k in range(n_species): #sum over species\n",
    "        particle = species[k]\n",
    "        pid = particle[0]\n",
    "        particle_dict = particle[1]\n",
    "        m = particle_dict['mass']\n",
    "        sign = particle_dict['sign']\n",
    "        degen = particle_dict['degen']\n",
    "        prefac = degen\n",
    "        \n",
    "        for ibeta, beta in enumerate(beta_grid):\n",
    "            eq_eps_grid[ibeta] += prefac * eps(beta, 0.0, m, sign) \n",
    "            eq_p_grid[ibeta] += prefac * P(beta, 0.0, m, sign)\n",
    "            #eq_beta_Pi_grid[ibeta] += prefac * beta_Pi(beta, m, sign)\n",
    "            \n",
    "            for irho, rho in enumerate(rho_grid):\n",
    "                eps_grid[ibeta, irho] += prefac * eps(beta, rho, m, sign)\n",
    "                P_grid[ibeta, irho]   += prefac * P(beta, rho, m, sign)\n",
    "                \n",
    "        \n",
    "    np.savetxt(\"grids/eps.dat\", eps_grid)\n",
    "    np.savetxt(\"grids/P.dat\", P_grid)\n",
    "    \n",
    "    np.savetxt(\"grids/eq_eps.dat\", eq_eps_grid)\n",
    "    np.savetxt(\"grids/eq_p.dat\", eq_p_grid)\n",
    "t2 = time.time()"
   ]
  },
  {
   "cell_type": "code",
   "execution_count": 3,
   "metadata": {},
   "outputs": [
    {
     "name": "stdout",
     "output_type": "stream",
     "text": [
      "Time elapsed : 9.5367431640625e-07 sec\n"
     ]
    }
   ],
   "source": [
    "print(\"Time elapsed : \" + str(t2-t1) + \" sec\")"
   ]
  },
  {
   "cell_type": "markdown",
   "metadata": {},
   "source": [
    "### Load the pre-calculated grids from disk"
   ]
  },
  {
   "cell_type": "code",
   "execution_count": 4,
   "metadata": {},
   "outputs": [],
   "source": [
    "#load the pre-calculated grid\n",
    "eps_grid = np.loadtxt(\"grids/eps.dat\")\n",
    "P_grid = np.loadtxt(\"grids/P.dat\")\n",
    "\n",
    "eq_eps_grid = np.loadtxt(\"grids/eq_eps.dat\")\n",
    "eq_p_grid = np.loadtxt(\"grids/eq_p.dat\")"
   ]
  },
  {
   "cell_type": "code",
   "execution_count": 5,
   "metadata": {
    "scrolled": true
   },
   "outputs": [
    {
     "name": "stderr",
     "output_type": "stream",
     "text": [
      "/Users/derek/miniconda3/lib/python3.6/site-packages/ipykernel_launcher.py:2: ParserWarning: Falling back to the 'python' engine because the 'c' engine does not support regex separators (separators > 1 char and different from '\\s+' are interpreted as regex); you can avoid this warning by specifying engine='python'.\n",
      "  \n",
      "/Users/derek/miniconda3/lib/python3.6/site-packages/ipykernel_launcher.py:3: ParserWarning: Falling back to the 'python' engine because the 'c' engine does not support regex separators (separators > 1 char and different from '\\s+' are interpreted as regex); you can avoid this warning by specifying engine='python'.\n",
      "  This is separate from the ipykernel package so we can avoid doing imports until\n"
     ]
    }
   ],
   "source": [
    "#load the tables from iS3D for Linear Chapman Enskog\n",
    "beta_Pi_df = pd.read_csv('grids/iS3D_tables/urqmd/betabulk.dat', sep='  ')\n",
    "F_df = pd.read_csv('grids/iS3D_tables/urqmd/F.dat', sep='  ')"
   ]
  },
  {
   "cell_type": "code",
   "execution_count": 6,
   "metadata": {},
   "outputs": [],
   "source": [
    "#Units in tables according to M. McNelis\n",
    "beta_Pi_df['beta_Pi[GeV/fm^3]'] = beta_Pi_df['betabulk_over_T4[GeV^-1fm^-3]'] * (beta_Pi_df['T[GeV]']**4. )\n",
    "beta_Pi_df['beta[GeV^-1]'] = 1. / beta_Pi_df['T[GeV]']\n",
    "\n",
    "F_df['F[GeV]'] = F_df['F_over_T'] * F_df['T[GeV]']\n",
    "F_df['beta[GeV^-1]'] = 1. / F_df['T[GeV]']"
   ]
  },
  {
   "cell_type": "code",
   "execution_count": 7,
   "metadata": {},
   "outputs": [
    {
     "data": {
      "text/html": [
       "<div>\n",
       "<style scoped>\n",
       "    .dataframe tbody tr th:only-of-type {\n",
       "        vertical-align: middle;\n",
       "    }\n",
       "\n",
       "    .dataframe tbody tr th {\n",
       "        vertical-align: top;\n",
       "    }\n",
       "\n",
       "    .dataframe thead th {\n",
       "        text-align: right;\n",
       "    }\n",
       "</style>\n",
       "<table border=\"1\" class=\"dataframe\">\n",
       "  <thead>\n",
       "    <tr style=\"text-align: right;\">\n",
       "      <th></th>\n",
       "      <th>T[GeV]</th>\n",
       "      <th>muB[GeV]</th>\n",
       "      <th>betabulk_over_T4[GeV^-1fm^-3]</th>\n",
       "      <th>beta_Pi[GeV/fm^3]</th>\n",
       "      <th>beta[GeV^-1]</th>\n",
       "    </tr>\n",
       "  </thead>\n",
       "  <tbody>\n",
       "    <tr>\n",
       "      <th>0</th>\n",
       "      <td>0.100</td>\n",
       "      <td>0.0</td>\n",
       "      <td>9.173387</td>\n",
       "      <td>0.000917</td>\n",
       "      <td>10.000000</td>\n",
       "    </tr>\n",
       "    <tr>\n",
       "      <th>1</th>\n",
       "      <td>0.101</td>\n",
       "      <td>0.0</td>\n",
       "      <td>9.458146</td>\n",
       "      <td>0.000984</td>\n",
       "      <td>9.900990</td>\n",
       "    </tr>\n",
       "    <tr>\n",
       "      <th>2</th>\n",
       "      <td>0.102</td>\n",
       "      <td>0.0</td>\n",
       "      <td>9.747904</td>\n",
       "      <td>0.001055</td>\n",
       "      <td>9.803922</td>\n",
       "    </tr>\n",
       "    <tr>\n",
       "      <th>3</th>\n",
       "      <td>0.103</td>\n",
       "      <td>0.0</td>\n",
       "      <td>10.042641</td>\n",
       "      <td>0.001130</td>\n",
       "      <td>9.708738</td>\n",
       "    </tr>\n",
       "    <tr>\n",
       "      <th>4</th>\n",
       "      <td>0.104</td>\n",
       "      <td>0.0</td>\n",
       "      <td>10.342339</td>\n",
       "      <td>0.001210</td>\n",
       "      <td>9.615385</td>\n",
       "    </tr>\n",
       "    <tr>\n",
       "      <th>...</th>\n",
       "      <td>...</td>\n",
       "      <td>...</td>\n",
       "      <td>...</td>\n",
       "      <td>...</td>\n",
       "      <td>...</td>\n",
       "    </tr>\n",
       "    <tr>\n",
       "      <th>96</th>\n",
       "      <td>0.196</td>\n",
       "      <td>0.0</td>\n",
       "      <td>67.448347</td>\n",
       "      <td>0.099540</td>\n",
       "      <td>5.102041</td>\n",
       "    </tr>\n",
       "    <tr>\n",
       "      <th>97</th>\n",
       "      <td>0.197</td>\n",
       "      <td>0.0</td>\n",
       "      <td>68.526827</td>\n",
       "      <td>0.103211</td>\n",
       "      <td>5.076142</td>\n",
       "    </tr>\n",
       "    <tr>\n",
       "      <th>98</th>\n",
       "      <td>0.198</td>\n",
       "      <td>0.0</td>\n",
       "      <td>69.617382</td>\n",
       "      <td>0.106999</td>\n",
       "      <td>5.050505</td>\n",
       "    </tr>\n",
       "    <tr>\n",
       "      <th>99</th>\n",
       "      <td>0.199</td>\n",
       "      <td>0.0</td>\n",
       "      <td>70.720025</td>\n",
       "      <td>0.110906</td>\n",
       "      <td>5.025126</td>\n",
       "    </tr>\n",
       "    <tr>\n",
       "      <th>100</th>\n",
       "      <td>0.200</td>\n",
       "      <td>0.0</td>\n",
       "      <td>71.834761</td>\n",
       "      <td>0.114936</td>\n",
       "      <td>5.000000</td>\n",
       "    </tr>\n",
       "  </tbody>\n",
       "</table>\n",
       "<p>101 rows × 5 columns</p>\n",
       "</div>"
      ],
      "text/plain": [
       "     T[GeV]  muB[GeV]  betabulk_over_T4[GeV^-1fm^-3]  beta_Pi[GeV/fm^3]  \\\n",
       "0     0.100       0.0                       9.173387           0.000917   \n",
       "1     0.101       0.0                       9.458146           0.000984   \n",
       "2     0.102       0.0                       9.747904           0.001055   \n",
       "3     0.103       0.0                      10.042641           0.001130   \n",
       "4     0.104       0.0                      10.342339           0.001210   \n",
       "..      ...       ...                            ...                ...   \n",
       "96    0.196       0.0                      67.448347           0.099540   \n",
       "97    0.197       0.0                      68.526827           0.103211   \n",
       "98    0.198       0.0                      69.617382           0.106999   \n",
       "99    0.199       0.0                      70.720025           0.110906   \n",
       "100   0.200       0.0                      71.834761           0.114936   \n",
       "\n",
       "     beta[GeV^-1]  \n",
       "0       10.000000  \n",
       "1        9.900990  \n",
       "2        9.803922  \n",
       "3        9.708738  \n",
       "4        9.615385  \n",
       "..            ...  \n",
       "96       5.102041  \n",
       "97       5.076142  \n",
       "98       5.050505  \n",
       "99       5.025126  \n",
       "100      5.000000  \n",
       "\n",
       "[101 rows x 5 columns]"
      ]
     },
     "execution_count": 7,
     "metadata": {},
     "output_type": "execute_result"
    }
   ],
   "source": [
    "beta_Pi_df"
   ]
  },
  {
   "cell_type": "code",
   "execution_count": 8,
   "metadata": {},
   "outputs": [
    {
     "data": {
      "image/png": "[encoded data removed]",
      "text/plain": [
       "<Figure size 432x288 with 2 Axes>"
      ]
     },
     "metadata": {
      "needs_background": "light"
     },
     "output_type": "display_data"
    }
   ],
   "source": [
    "xx, yy = np.meshgrid(beta_grid, rho_grid)\n",
    "plt.contourf(xx, yy, np.log(eps_grid.T) )\n",
    "plt.xlabel(r\"$\\beta$ [GeV]$^{-1}$\")\n",
    "plt.ylabel(r\"$\\rho$\")\n",
    "plt.title(r\"$ln(e)$ [GeV]$^{-4}$\")\n",
    "plt.colorbar()\n",
    "plt.tight_layout(True)\n",
    "plt.show()"
   ]
  },
  {
   "cell_type": "code",
   "execution_count": 9,
   "metadata": {},
   "outputs": [
    {
     "data": {
      "image/png": "[encoded data removed]",
      "text/plain": [
       "<Figure size 432x288 with 2 Axes>"
      ]
     },
     "metadata": {
      "needs_background": "light"
     },
     "output_type": "display_data"
    }
   ],
   "source": [
    "xx, yy = np.meshgrid(beta_grid, rho_grid)\n",
    "#fig, axes = plt.subplots(1, 1, figsize=(6,4))\n",
    "plt.contourf(xx, yy, np.log(P_grid.T) )\n",
    "plt.xlabel(r\"$\\beta$ [GeV]$^{-1}$\")\n",
    "plt.ylabel(r\"$\\rho$\")\n",
    "plt.title(r\"$ln(P)$ [GeV]$^{-4}$\")\n",
    "plt.colorbar()\n",
    "plt.tight_layout(True)\n",
    "plt.show()"
   ]
  },
  {
   "cell_type": "code",
   "execution_count": 10,
   "metadata": {},
   "outputs": [
    {
     "data": {
      "image/png": "[encoded data removed]",
      "text/plain": [
       "<Figure size 432x288 with 1 Axes>"
      ]
     },
     "metadata": {
      "needs_background": "light"
     },
     "output_type": "display_data"
    }
   ],
   "source": [
    "plt.plot(beta_grid, np.log(eq_eps_grid) )\n",
    "plt.xlabel(r'$\\beta$ [GeV]$^{-1}$')\n",
    "plt.ylabel(r'$\\ln(\\epsilon)$ [GeV]$^{-4}$')\n",
    "plt.title(r'Equil. EoS')\n",
    "plt.show()"
   ]
  },
  {
   "cell_type": "markdown",
   "metadata": {},
   "source": [
    "### Now we will create interpolations of the grid. \n",
    "This will allow us to invert the relations\n",
    "$$\\epsilon = \\epsilon(\\beta, \\rho)$$\n",
    "$$P = P(\\beta, \\rho)$$\n",
    "\n",
    "into \n",
    "\n",
    "$$\\beta = \\beta(\\epsilon, P)$$\n",
    "$$\\rho = \\rho(\\epsilon, P).$$\n",
    "\n",
    "Once we have the interpolations $\\epsilon = \\epsilon(\\beta, \\rho)$ and $P = P(\\beta, \\rho)$, these can be inverted simultaneously by a two-dimensional root-finding routine.\n",
    "The Andersen method in the `SciPy` implementation has done fairly well for our tests.\n",
    "\n",
    "In a real phenomenological setting, each cell on the particlization surface may have a different isotropic pressure, and perhaps a different energy density. In this case, the interpolations can be loaded and reused together with the root finding method to find the Lagrange multipliers $\\beta$ and $\\rho$ for each cell."
   ]
  },
  {
   "cell_type": "code",
   "execution_count": 11,
   "metadata": {},
   "outputs": [],
   "source": [
    "#creating interpolations of the energy density e(beta, lambda) \n",
    "#and total pressure P(beta, lambda)\n",
    "ln_eps_interp = RectBivariateSpline(beta_grid, rho_grid, np.log(eps_grid) )\n",
    "ln_P_interp = RectBivariateSpline(beta_grid, rho_grid, np.log(P_grid) )\n",
    "\n",
    "ln_eq_eps_interp = interpolate.interp1d(np.log(eq_eps_grid), beta_grid )\n",
    "ln_eq_eps_given_beta_interp = interpolate.interp1d(beta_grid, np.log(eq_eps_grid) )\n",
    "\n",
    "ln_eq_p_interp = interpolate.interp1d(beta_grid, np.log(eq_p_grid) )\n",
    "#ln_eq_beta_Pi_interp = interpolate.interp1d(beta_grid, np.log(eq_beta_Pi_grid) )\n",
    "\n",
    "#careful beta_Pi < 0\n",
    "ln_beta_Pi_interp = interpolate.interp1d(beta_Pi_df['beta[GeV^-1]'], np.log(beta_Pi_df['beta_Pi[GeV/fm^3]']) )\n",
    "F_interp = interpolate.interp1d(F_df['beta[GeV^-1]'],  F_df['F[GeV]'] )"
   ]
  },
  {
   "cell_type": "markdown",
   "metadata": {},
   "source": [
    "### Testing the root-finding method and plotting the distribution"
   ]
  },
  {
   "cell_type": "code",
   "execution_count": 29,
   "metadata": {},
   "outputs": [
    {
     "name": "stdout",
     "output_type": "stream",
     "text": [
      "ln_e0 = -1.4116070234226454, ln_P0 = -3.857685550169348\n"
     ]
    }
   ],
   "source": [
    "##FOR TESTING ROOT SOLVING\n",
    "#true values of beta and rho\n",
    "#beta_true = 6.\n",
    "#rho_true = 0.5\n",
    "#the values of energy density and total pressure are given\n",
    "#ln_e0 = ln_eps_interp(beta_true, rho_true).flatten()[0] \n",
    "#ln_P0 = ln_P_interp(beta_true, rho_true).flatten()[0] \n",
    "##FOR TESTING ROOT SOLVING\n",
    "\n",
    "##FOR PLOTTING \n",
    "T_sw = 0.15 #typical switching temperature in GeV\n",
    "beta_sw = 1./ T_sw\n",
    "\n",
    "ln_e0 = ln_eq_eps_given_beta_interp(beta_sw) \n",
    "\n",
    "p_sw = np.exp( ln_eq_p_interp(beta_sw) )\n",
    "bulk_Pi_sw = -1.* p_sw / 2.\n",
    "P0_sw = p_sw + bulk_Pi_sw\n",
    "ln_P0 = np.log(P0_sw)\n",
    "##FOR PLOTTING \n",
    "\n",
    "beta_Pi0 = np.exp(ln_beta_Pi_interp(beta_sw))\n",
    "F0 = F_interp(beta_sw)\n",
    "\n",
    "print(\"ln_e0 = \" + str(ln_e0) + \", ln_P0 = \" + str(ln_P0))"
   ]
  },
  {
   "cell_type": "code",
   "execution_count": 30,
   "metadata": {},
   "outputs": [],
   "source": [
    "def root_solve_beta_rho(ln_e0, ln_p0, guess, tol=1e-7, maxiter = int(1e5)):\n",
    "    \"\"\"Find the solution (beta, rho) which matches both the given\n",
    "    energy density and total isotr. pressure\"\"\"\n",
    "    def my_fun(x):\n",
    "        \"\"\"input is vector with x[0] = beta, x[1] = rho\"\"\"\n",
    "        ln_eps_func = ln_eps_interp(x[0], x[1]).flatten()[0] \n",
    "        ln_P_func = ln_P_interp(x[0], x[1]).flatten()[0] \n",
    "        return [ln_eps_func - ln_e0, ln_P_func - ln_P0]\n",
    "    \n",
    "    solution = optimize.root(my_fun, guess, method='anderson', tol=tol, options={'maxiter':maxiter})\n",
    "    beta_soln = solution.x[0]\n",
    "    rho_soln = solution.x[1]\n",
    "    return beta_soln, rho_soln, solution"
   ]
  },
  {
   "cell_type": "code",
   "execution_count": 31,
   "metadata": {},
   "outputs": [
    {
     "data": {
      "image/png": "[encoded data removed]",
      "text/plain": [
       "<Figure size 504x504 with 1 Axes>"
      ]
     },
     "metadata": {
      "needs_background": "light"
     },
     "output_type": "display_data"
    }
   ],
   "source": [
    "beta_soln, rho_soln, info = root_solve_beta_rho(ln_e0, ln_P0, [7.0, 0.]) \n",
    "\n",
    "#now plot these functions\n",
    "pid_plot = [211, 2212]\n",
    "pid_color = {211: 'b', 321:'g', 2212: 'r'}\n",
    "fig, axes = plt.subplots(1, 1, figsize=(7,7))\n",
    "plt.semilogy()\n",
    "\n",
    "p_grid = np.linspace(0., 2., 50)\n",
    "\n",
    "for ipid, pid in enumerate(pid_plot):\n",
    "    m  = species_dict[pid]['mass']\n",
    "    sign  = species_dict[pid]['sign']\n",
    "    degen = species_dict[pid]['degen']\n",
    "     \n",
    "    if ipid == 0:\n",
    "        label_ME = r'$f_{\\rm ME}$'\n",
    "        label_eq = r'$f_{\\rm eq}$'\n",
    "        label_CE = r'$f_{\\rm CE}$'\n",
    "    else:\n",
    "        label_ME = label_eq = label_CE = None\n",
    "    \n",
    "    f_ME_vals = [np.sqrt(p*p + m*m)*f_dist(np.sqrt(p*p + m*m), \n",
    "                    beta_soln, rho_soln, m, sign) for p in p_grid]\n",
    "    f_eq_vals = [np.sqrt(p*p + m*m)*f_eq(np.sqrt(p*p + m*m), beta_sw, sign) for p in p_grid]\n",
    "    f_lin_CE_vals = [np.sqrt(p*p + m*m)*f_CE_lin(np.sqrt(p*p + m*m), \n",
    "                    beta_sw, bulk_Pi_sw, beta_Pi0, F0, m, sign) for p in p_grid] \n",
    "    \n",
    "    plt.plot(p_grid, f_eq_vals, lw=3, label=label_eq, ls='-', color=pid_color[pid])\n",
    "    plt.plot(p_grid, f_ME_vals, lw=3, label=label_ME, ls='--', color=pid_color[pid])\n",
    "    plt.plot(p_grid, f_lin_CE_vals, lw=3, label=label_CE, \n",
    "             ls=':', color=pid_color[pid])\n",
    "\n",
    "plt.xlabel(r'$p$[GeV]')\n",
    "plt.ylabel(r'$E f(E)$')\n",
    "plt.legend()\n",
    "plt.tight_layout(True)\n",
    "plt.savefig('plots/spectra.png', dpi=400)\n",
    "plt.show()"
   ]
  },
  {
   "cell_type": "code",
   "execution_count": 16,
   "metadata": {},
   "outputs": [
    {
     "name": "stdout",
     "output_type": "stream",
     "text": [
      "pid = 211\n",
      "n_eq = 0.041008953005075455\n",
      "n_CE = 0.014380421489477158\n",
      "n_ME = 0.017330871894955635\n",
      "pid = 2212\n",
      "n_eq = 0.001110656070522964\n",
      "n_CE = 0.0014976168749853969\n",
      "n_ME = 0.0012781985569745302\n"
     ]
    }
   ],
   "source": [
    "for ipid, pid in enumerate(pid_plot):\n",
    "    m  = species_dict[pid]['mass']\n",
    "    sign  = species_dict[pid]['sign']\n",
    "    degen = species_dict[pid]['degen']\n",
    "    \n",
    "    n_eq0 = n(beta_sw, 0., m, sign)\n",
    "    n_ME0 = n(beta_soln, rho_soln, m, sign)\n",
    "    n_CE0 = n_CE(beta_sw, bulk_Pi_sw, beta_Pi0, F0, m, sign)\n",
    "    \n",
    "    print(\"pid = \" + str(pid))\n",
    "    print(\"n_eq = \" + str(n_eq0))\n",
    "    print(\"n_CE = \" + str(n_CE0))\n",
    "    print(\"n_ME = \" + str(n_ME0))"
   ]
  },
  {
   "cell_type": "code",
   "execution_count": 45,
   "metadata": {},
   "outputs": [],
   "source": [
    "#let's compute the particle densities as a function of bulk pressure\n",
    "first_guess = [7.0, 0.]\n",
    "guess = first_guess\n",
    "\n",
    "n_CE_ratio = {}\n",
    "n_ME_ratio = {}\n",
    "\n",
    "\n",
    "R_Pi_grid = np.linspace(0., 0.5, 50)\n",
    "\n",
    "for ipid, pid in enumerate(pid_plot):\n",
    "    m  = species_dict[pid]['mass']\n",
    "    sign  = species_dict[pid]['sign']\n",
    "    degen = species_dict[pid]['degen']\n",
    "    \n",
    "    n_eq_arr = []\n",
    "    n_CE_arr = []\n",
    "    n_ME_arr = []\n",
    "    for R_Pi_inv in R_Pi_grid:\n",
    "        bulk_Pi_sw = -R_Pi_inv * p_sw \n",
    "        P0_sw = p_sw + bulk_Pi_sw\n",
    "        ln_P0 = np.log(P0_sw)\n",
    "    \n",
    "        beta_soln, rho_soln, info = root_solve_beta_rho(ln_e0, ln_P0, guess)\n",
    "        #update guess for next step\n",
    "        guess = [beta_soln, rho_soln]\n",
    "        \n",
    "        n_eq0 = n(beta_sw, 0., m, sign)\n",
    "        n_ME_arr.append( n(beta_soln, rho_soln, m, sign) / n_eq0 )\n",
    "        n_CE_arr.append( n_CE(beta_sw, bulk_Pi_sw, beta_Pi0, F0, m, sign) / n_eq0 )\n",
    "        \n",
    "    n_CE_ratio[pid] = n_CE_arr\n",
    "    n_ME_ratio[pid] = n_ME_arr\n",
    "    "
   ]
  },
  {
   "cell_type": "code",
   "execution_count": 67,
   "metadata": {},
   "outputs": [
    {
     "data": {
      "image/png": "[encoded data removed]",
      "text/plain": [
       "<Figure size 432x288 with 1 Axes>"
      ]
     },
     "metadata": {
      "needs_background": "light"
     },
     "output_type": "display_data"
    }
   ],
   "source": [
    "for ipid, pid in enumerate(pid_plot):\n",
    "    if ipid == 0:\n",
    "        label_CE = 'CE'\n",
    "        label_ME = 'ME'\n",
    "    else:\n",
    "        label_CE = label_ME = None\n",
    "    plt.plot(R_Pi_grid, n_CE_ratio[pid], color=pid_color[pid], ls=':', \n",
    "             lw=3, label=label_CE)\n",
    "    plt.plot(R_Pi_grid, n_ME_ratio[pid], color=pid_color[pid], ls='--', \n",
    "             lw=3, label=label_ME)\n",
    "\n",
    "plt.ylabel(r'$n / n_{\\rm eq}$')\n",
    "plt.xlabel(r'$-\\Pi / p_{\\rm eq}$')\n",
    "plt.legend()\n",
    "plt.tight_layout(True)\n",
    "plt.savefig('plots/densities.png', dpi=400)\n",
    "plt.show()"
   ]
  },
  {
   "cell_type": "code",
   "execution_count": null,
   "metadata": {},
   "outputs": [],
   "source": []
  }
 ],
 "metadata": {
  "kernelspec": {
   "display_name": "Python 3",
   "language": "python",
   "name": "python3"
  },
  "language_info": {
   "codemirror_mode": {
    "name": "ipython",
    "version": 3
   },
   "file_extension": ".py",
   "mimetype": "text/x-python",
   "name": "python",
   "nbconvert_exporter": "python",
   "pygments_lexer": "ipython3",
   "version": "3.6.8"
  }
 },
 "nbformat": 4,
 "nbformat_minor": 2
}
